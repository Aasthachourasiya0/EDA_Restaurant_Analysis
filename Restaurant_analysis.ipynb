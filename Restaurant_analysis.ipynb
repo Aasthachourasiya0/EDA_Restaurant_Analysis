{
 "cells": [
  {
   "cell_type": "code",
   "execution_count": 1,
   "id": "427ad672-e915-4976-89a9-e63c183b86b8",
   "metadata": {},
   "outputs": [],
   "source": [
    "import pandas as pd\n",
    "import matplotlib.pyplot as plt\n",
    "import re"
   ]
  },
  {
   "cell_type": "code",
   "execution_count": 2,
   "id": "407794dd-a59a-4bc9-8bb2-b5dd13fadd85",
   "metadata": {},
   "outputs": [
    {
     "data": {
      "text/html": [
       "<div>\n",
       "<style scoped>\n",
       "    .dataframe tbody tr th:only-of-type {\n",
       "        vertical-align: middle;\n",
       "    }\n",
       "\n",
       "    .dataframe tbody tr th {\n",
       "        vertical-align: top;\n",
       "    }\n",
       "\n",
       "    .dataframe thead th {\n",
       "        text-align: right;\n",
       "    }\n",
       "</style>\n",
       "<table border=\"1\" class=\"dataframe\">\n",
       "  <thead>\n",
       "    <tr style=\"text-align: right;\">\n",
       "      <th></th>\n",
       "      <th>Restaurant ID</th>\n",
       "      <th>Restaurant Name</th>\n",
       "      <th>Country Code</th>\n",
       "      <th>City</th>\n",
       "      <th>Address</th>\n",
       "      <th>Locality</th>\n",
       "      <th>Locality Verbose</th>\n",
       "      <th>Longitude</th>\n",
       "      <th>Latitude</th>\n",
       "      <th>Cuisines</th>\n",
       "      <th>...</th>\n",
       "      <th>Currency</th>\n",
       "      <th>Has Table booking</th>\n",
       "      <th>Has Online delivery</th>\n",
       "      <th>Is delivering now</th>\n",
       "      <th>Switch to order menu</th>\n",
       "      <th>Price range</th>\n",
       "      <th>Aggregate rating</th>\n",
       "      <th>Rating color</th>\n",
       "      <th>Rating text</th>\n",
       "      <th>Votes</th>\n",
       "    </tr>\n",
       "  </thead>\n",
       "  <tbody>\n",
       "    <tr>\n",
       "      <th>0</th>\n",
       "      <td>6317637</td>\n",
       "      <td>Le Petit Souffle</td>\n",
       "      <td>162</td>\n",
       "      <td>Makati City</td>\n",
       "      <td>Third Floor, Century City Mall, Kalayaan Avenu...</td>\n",
       "      <td>Century City Mall, Poblacion, Makati City</td>\n",
       "      <td>Century City Mall, Poblacion, Makati City, Mak...</td>\n",
       "      <td>121.027535</td>\n",
       "      <td>14.565443</td>\n",
       "      <td>French, Japanese, Desserts</td>\n",
       "      <td>...</td>\n",
       "      <td>Botswana Pula(P)</td>\n",
       "      <td>Yes</td>\n",
       "      <td>No</td>\n",
       "      <td>No</td>\n",
       "      <td>No</td>\n",
       "      <td>3</td>\n",
       "      <td>4.8</td>\n",
       "      <td>Dark Green</td>\n",
       "      <td>Excellent</td>\n",
       "      <td>314</td>\n",
       "    </tr>\n",
       "    <tr>\n",
       "      <th>1</th>\n",
       "      <td>6304287</td>\n",
       "      <td>Izakaya Kikufuji</td>\n",
       "      <td>162</td>\n",
       "      <td>Makati City</td>\n",
       "      <td>Little Tokyo, 2277 Chino Roces Avenue, Legaspi...</td>\n",
       "      <td>Little Tokyo, Legaspi Village, Makati City</td>\n",
       "      <td>Little Tokyo, Legaspi Village, Makati City, Ma...</td>\n",
       "      <td>121.014101</td>\n",
       "      <td>14.553708</td>\n",
       "      <td>Japanese</td>\n",
       "      <td>...</td>\n",
       "      <td>Botswana Pula(P)</td>\n",
       "      <td>Yes</td>\n",
       "      <td>No</td>\n",
       "      <td>No</td>\n",
       "      <td>No</td>\n",
       "      <td>3</td>\n",
       "      <td>4.5</td>\n",
       "      <td>Dark Green</td>\n",
       "      <td>Excellent</td>\n",
       "      <td>591</td>\n",
       "    </tr>\n",
       "    <tr>\n",
       "      <th>2</th>\n",
       "      <td>6300002</td>\n",
       "      <td>Heat - Edsa Shangri-La</td>\n",
       "      <td>162</td>\n",
       "      <td>Mandaluyong City</td>\n",
       "      <td>Edsa Shangri-La, 1 Garden Way, Ortigas, Mandal...</td>\n",
       "      <td>Edsa Shangri-La, Ortigas, Mandaluyong City</td>\n",
       "      <td>Edsa Shangri-La, Ortigas, Mandaluyong City, Ma...</td>\n",
       "      <td>121.056831</td>\n",
       "      <td>14.581404</td>\n",
       "      <td>Seafood, Asian, Filipino, Indian</td>\n",
       "      <td>...</td>\n",
       "      <td>Botswana Pula(P)</td>\n",
       "      <td>Yes</td>\n",
       "      <td>No</td>\n",
       "      <td>No</td>\n",
       "      <td>No</td>\n",
       "      <td>4</td>\n",
       "      <td>4.4</td>\n",
       "      <td>Green</td>\n",
       "      <td>Very Good</td>\n",
       "      <td>270</td>\n",
       "    </tr>\n",
       "    <tr>\n",
       "      <th>3</th>\n",
       "      <td>6318506</td>\n",
       "      <td>Ooma</td>\n",
       "      <td>162</td>\n",
       "      <td>Mandaluyong City</td>\n",
       "      <td>Third Floor, Mega Fashion Hall, SM Megamall, O...</td>\n",
       "      <td>SM Megamall, Ortigas, Mandaluyong City</td>\n",
       "      <td>SM Megamall, Ortigas, Mandaluyong City, Mandal...</td>\n",
       "      <td>121.056475</td>\n",
       "      <td>14.585318</td>\n",
       "      <td>Japanese, Sushi</td>\n",
       "      <td>...</td>\n",
       "      <td>Botswana Pula(P)</td>\n",
       "      <td>No</td>\n",
       "      <td>No</td>\n",
       "      <td>No</td>\n",
       "      <td>No</td>\n",
       "      <td>4</td>\n",
       "      <td>4.9</td>\n",
       "      <td>Dark Green</td>\n",
       "      <td>Excellent</td>\n",
       "      <td>365</td>\n",
       "    </tr>\n",
       "    <tr>\n",
       "      <th>4</th>\n",
       "      <td>6314302</td>\n",
       "      <td>Sambo Kojin</td>\n",
       "      <td>162</td>\n",
       "      <td>Mandaluyong City</td>\n",
       "      <td>Third Floor, Mega Atrium, SM Megamall, Ortigas...</td>\n",
       "      <td>SM Megamall, Ortigas, Mandaluyong City</td>\n",
       "      <td>SM Megamall, Ortigas, Mandaluyong City, Mandal...</td>\n",
       "      <td>121.057508</td>\n",
       "      <td>14.584450</td>\n",
       "      <td>Japanese, Korean</td>\n",
       "      <td>...</td>\n",
       "      <td>Botswana Pula(P)</td>\n",
       "      <td>Yes</td>\n",
       "      <td>No</td>\n",
       "      <td>No</td>\n",
       "      <td>No</td>\n",
       "      <td>4</td>\n",
       "      <td>4.8</td>\n",
       "      <td>Dark Green</td>\n",
       "      <td>Excellent</td>\n",
       "      <td>229</td>\n",
       "    </tr>\n",
       "    <tr>\n",
       "      <th>...</th>\n",
       "      <td>...</td>\n",
       "      <td>...</td>\n",
       "      <td>...</td>\n",
       "      <td>...</td>\n",
       "      <td>...</td>\n",
       "      <td>...</td>\n",
       "      <td>...</td>\n",
       "      <td>...</td>\n",
       "      <td>...</td>\n",
       "      <td>...</td>\n",
       "      <td>...</td>\n",
       "      <td>...</td>\n",
       "      <td>...</td>\n",
       "      <td>...</td>\n",
       "      <td>...</td>\n",
       "      <td>...</td>\n",
       "      <td>...</td>\n",
       "      <td>...</td>\n",
       "      <td>...</td>\n",
       "      <td>...</td>\n",
       "      <td>...</td>\n",
       "    </tr>\n",
       "    <tr>\n",
       "      <th>9546</th>\n",
       "      <td>5915730</td>\n",
       "      <td>Naml۱ Gurme</td>\n",
       "      <td>208</td>\n",
       "      <td>��stanbul</td>\n",
       "      <td>Kemanke�� Karamustafa Pa��a Mahallesi, R۱ht۱m ...</td>\n",
       "      <td>Karak�_y</td>\n",
       "      <td>Karak�_y, ��stanbul</td>\n",
       "      <td>28.977392</td>\n",
       "      <td>41.022793</td>\n",
       "      <td>Turkish</td>\n",
       "      <td>...</td>\n",
       "      <td>Turkish Lira(TL)</td>\n",
       "      <td>No</td>\n",
       "      <td>No</td>\n",
       "      <td>No</td>\n",
       "      <td>No</td>\n",
       "      <td>3</td>\n",
       "      <td>4.1</td>\n",
       "      <td>Green</td>\n",
       "      <td>Very Good</td>\n",
       "      <td>788</td>\n",
       "    </tr>\n",
       "    <tr>\n",
       "      <th>9547</th>\n",
       "      <td>5908749</td>\n",
       "      <td>Ceviz A��ac۱</td>\n",
       "      <td>208</td>\n",
       "      <td>��stanbul</td>\n",
       "      <td>Ko��uyolu Mahallesi, Muhittin ��st�_nda�� Cadd...</td>\n",
       "      <td>Ko��uyolu</td>\n",
       "      <td>Ko��uyolu, ��stanbul</td>\n",
       "      <td>29.041297</td>\n",
       "      <td>41.009847</td>\n",
       "      <td>World Cuisine, Patisserie, Cafe</td>\n",
       "      <td>...</td>\n",
       "      <td>Turkish Lira(TL)</td>\n",
       "      <td>No</td>\n",
       "      <td>No</td>\n",
       "      <td>No</td>\n",
       "      <td>No</td>\n",
       "      <td>3</td>\n",
       "      <td>4.2</td>\n",
       "      <td>Green</td>\n",
       "      <td>Very Good</td>\n",
       "      <td>1034</td>\n",
       "    </tr>\n",
       "    <tr>\n",
       "      <th>9548</th>\n",
       "      <td>5915807</td>\n",
       "      <td>Huqqa</td>\n",
       "      <td>208</td>\n",
       "      <td>��stanbul</td>\n",
       "      <td>Kuru�_e��me Mahallesi, Muallim Naci Caddesi, N...</td>\n",
       "      <td>Kuru�_e��me</td>\n",
       "      <td>Kuru�_e��me, ��stanbul</td>\n",
       "      <td>29.034640</td>\n",
       "      <td>41.055817</td>\n",
       "      <td>Italian, World Cuisine</td>\n",
       "      <td>...</td>\n",
       "      <td>Turkish Lira(TL)</td>\n",
       "      <td>No</td>\n",
       "      <td>No</td>\n",
       "      <td>No</td>\n",
       "      <td>No</td>\n",
       "      <td>4</td>\n",
       "      <td>3.7</td>\n",
       "      <td>Yellow</td>\n",
       "      <td>Good</td>\n",
       "      <td>661</td>\n",
       "    </tr>\n",
       "    <tr>\n",
       "      <th>9549</th>\n",
       "      <td>5916112</td>\n",
       "      <td>A���k Kahve</td>\n",
       "      <td>208</td>\n",
       "      <td>��stanbul</td>\n",
       "      <td>Kuru�_e��me Mahallesi, Muallim Naci Caddesi, N...</td>\n",
       "      <td>Kuru�_e��me</td>\n",
       "      <td>Kuru�_e��me, ��stanbul</td>\n",
       "      <td>29.036019</td>\n",
       "      <td>41.057979</td>\n",
       "      <td>Restaurant Cafe</td>\n",
       "      <td>...</td>\n",
       "      <td>Turkish Lira(TL)</td>\n",
       "      <td>No</td>\n",
       "      <td>No</td>\n",
       "      <td>No</td>\n",
       "      <td>No</td>\n",
       "      <td>4</td>\n",
       "      <td>4.0</td>\n",
       "      <td>Green</td>\n",
       "      <td>Very Good</td>\n",
       "      <td>901</td>\n",
       "    </tr>\n",
       "    <tr>\n",
       "      <th>9550</th>\n",
       "      <td>5927402</td>\n",
       "      <td>Walter's Coffee Roastery</td>\n",
       "      <td>208</td>\n",
       "      <td>��stanbul</td>\n",
       "      <td>Cafea��a Mahallesi, Bademalt۱ Sokak, No 21/B, ...</td>\n",
       "      <td>Moda</td>\n",
       "      <td>Moda, ��stanbul</td>\n",
       "      <td>29.026016</td>\n",
       "      <td>40.984776</td>\n",
       "      <td>Cafe</td>\n",
       "      <td>...</td>\n",
       "      <td>Turkish Lira(TL)</td>\n",
       "      <td>No</td>\n",
       "      <td>No</td>\n",
       "      <td>No</td>\n",
       "      <td>No</td>\n",
       "      <td>2</td>\n",
       "      <td>4.0</td>\n",
       "      <td>Green</td>\n",
       "      <td>Very Good</td>\n",
       "      <td>591</td>\n",
       "    </tr>\n",
       "  </tbody>\n",
       "</table>\n",
       "<p>9551 rows × 21 columns</p>\n",
       "</div>"
      ],
      "text/plain": [
       "      Restaurant ID           Restaurant Name  Country Code              City  \\\n",
       "0           6317637          Le Petit Souffle           162       Makati City   \n",
       "1           6304287          Izakaya Kikufuji           162       Makati City   \n",
       "2           6300002    Heat - Edsa Shangri-La           162  Mandaluyong City   \n",
       "3           6318506                      Ooma           162  Mandaluyong City   \n",
       "4           6314302               Sambo Kojin           162  Mandaluyong City   \n",
       "...             ...                       ...           ...               ...   \n",
       "9546        5915730               Naml۱ Gurme           208         ��stanbul   \n",
       "9547        5908749              Ceviz A��ac۱           208         ��stanbul   \n",
       "9548        5915807                     Huqqa           208         ��stanbul   \n",
       "9549        5916112               A���k Kahve           208         ��stanbul   \n",
       "9550        5927402  Walter's Coffee Roastery           208         ��stanbul   \n",
       "\n",
       "                                                Address  \\\n",
       "0     Third Floor, Century City Mall, Kalayaan Avenu...   \n",
       "1     Little Tokyo, 2277 Chino Roces Avenue, Legaspi...   \n",
       "2     Edsa Shangri-La, 1 Garden Way, Ortigas, Mandal...   \n",
       "3     Third Floor, Mega Fashion Hall, SM Megamall, O...   \n",
       "4     Third Floor, Mega Atrium, SM Megamall, Ortigas...   \n",
       "...                                                 ...   \n",
       "9546  Kemanke�� Karamustafa Pa��a Mahallesi, R۱ht۱m ...   \n",
       "9547  Ko��uyolu Mahallesi, Muhittin ��st�_nda�� Cadd...   \n",
       "9548  Kuru�_e��me Mahallesi, Muallim Naci Caddesi, N...   \n",
       "9549  Kuru�_e��me Mahallesi, Muallim Naci Caddesi, N...   \n",
       "9550  Cafea��a Mahallesi, Bademalt۱ Sokak, No 21/B, ...   \n",
       "\n",
       "                                        Locality  \\\n",
       "0      Century City Mall, Poblacion, Makati City   \n",
       "1     Little Tokyo, Legaspi Village, Makati City   \n",
       "2     Edsa Shangri-La, Ortigas, Mandaluyong City   \n",
       "3         SM Megamall, Ortigas, Mandaluyong City   \n",
       "4         SM Megamall, Ortigas, Mandaluyong City   \n",
       "...                                          ...   \n",
       "9546                                    Karak�_y   \n",
       "9547                                   Ko��uyolu   \n",
       "9548                                 Kuru�_e��me   \n",
       "9549                                 Kuru�_e��me   \n",
       "9550                                        Moda   \n",
       "\n",
       "                                       Locality Verbose   Longitude  \\\n",
       "0     Century City Mall, Poblacion, Makati City, Mak...  121.027535   \n",
       "1     Little Tokyo, Legaspi Village, Makati City, Ma...  121.014101   \n",
       "2     Edsa Shangri-La, Ortigas, Mandaluyong City, Ma...  121.056831   \n",
       "3     SM Megamall, Ortigas, Mandaluyong City, Mandal...  121.056475   \n",
       "4     SM Megamall, Ortigas, Mandaluyong City, Mandal...  121.057508   \n",
       "...                                                 ...         ...   \n",
       "9546                                Karak�_y, ��stanbul   28.977392   \n",
       "9547                               Ko��uyolu, ��stanbul   29.041297   \n",
       "9548                             Kuru�_e��me, ��stanbul   29.034640   \n",
       "9549                             Kuru�_e��me, ��stanbul   29.036019   \n",
       "9550                                    Moda, ��stanbul   29.026016   \n",
       "\n",
       "       Latitude                          Cuisines  ...          Currency  \\\n",
       "0     14.565443        French, Japanese, Desserts  ...  Botswana Pula(P)   \n",
       "1     14.553708                          Japanese  ...  Botswana Pula(P)   \n",
       "2     14.581404  Seafood, Asian, Filipino, Indian  ...  Botswana Pula(P)   \n",
       "3     14.585318                   Japanese, Sushi  ...  Botswana Pula(P)   \n",
       "4     14.584450                  Japanese, Korean  ...  Botswana Pula(P)   \n",
       "...         ...                               ...  ...               ...   \n",
       "9546  41.022793                           Turkish  ...  Turkish Lira(TL)   \n",
       "9547  41.009847   World Cuisine, Patisserie, Cafe  ...  Turkish Lira(TL)   \n",
       "9548  41.055817            Italian, World Cuisine  ...  Turkish Lira(TL)   \n",
       "9549  41.057979                   Restaurant Cafe  ...  Turkish Lira(TL)   \n",
       "9550  40.984776                              Cafe  ...  Turkish Lira(TL)   \n",
       "\n",
       "     Has Table booking Has Online delivery Is delivering now  \\\n",
       "0                  Yes                  No                No   \n",
       "1                  Yes                  No                No   \n",
       "2                  Yes                  No                No   \n",
       "3                   No                  No                No   \n",
       "4                  Yes                  No                No   \n",
       "...                ...                 ...               ...   \n",
       "9546                No                  No                No   \n",
       "9547                No                  No                No   \n",
       "9548                No                  No                No   \n",
       "9549                No                  No                No   \n",
       "9550                No                  No                No   \n",
       "\n",
       "     Switch to order menu Price range  Aggregate rating  Rating color  \\\n",
       "0                      No           3               4.8    Dark Green   \n",
       "1                      No           3               4.5    Dark Green   \n",
       "2                      No           4               4.4         Green   \n",
       "3                      No           4               4.9    Dark Green   \n",
       "4                      No           4               4.8    Dark Green   \n",
       "...                   ...         ...               ...           ...   \n",
       "9546                   No           3               4.1         Green   \n",
       "9547                   No           3               4.2         Green   \n",
       "9548                   No           4               3.7        Yellow   \n",
       "9549                   No           4               4.0         Green   \n",
       "9550                   No           2               4.0         Green   \n",
       "\n",
       "     Rating text Votes  \n",
       "0      Excellent   314  \n",
       "1      Excellent   591  \n",
       "2      Very Good   270  \n",
       "3      Excellent   365  \n",
       "4      Excellent   229  \n",
       "...          ...   ...  \n",
       "9546   Very Good   788  \n",
       "9547   Very Good  1034  \n",
       "9548        Good   661  \n",
       "9549   Very Good   901  \n",
       "9550   Very Good   591  \n",
       "\n",
       "[9551 rows x 21 columns]"
      ]
     },
     "execution_count": 2,
     "metadata": {},
     "output_type": "execute_result"
    }
   ],
   "source": [
    "data = pd.read_csv(r\"C:\\Users\\HP\\Downloads\\Dataset .csv\")\n",
    "data"
   ]
  },
  {
   "cell_type": "code",
   "execution_count": 3,
   "id": "14994da9-b9b5-43b6-9302-723db3886597",
   "metadata": {},
   "outputs": [],
   "source": [
    "def clean_text(text):\n",
    "    if isinstance(text, str):\n",
    "        text = text.replace(\"��\", \"\")\n",
    "        text = text.replace(\"۱\", \"1\")\n",
    "        text = text.replace(\"�\", \"\")\n",
    "        text = re.sub(r'[^a-zA-Z0-9\\s,]', '', text)\n",
    "    return text  "
   ]
  },
  {
   "cell_type": "code",
   "execution_count": 4,
   "id": "0f0f982b-7873-4ee9-82a7-213f7a25ee5a",
   "metadata": {},
   "outputs": [
    {
     "name": "stdout",
     "output_type": "stream",
     "text": [
      "   Restaurant ID       Restaurant Name  Country Code              City  \\\n",
      "0        6317637      Le Petit Souffle           162       Makati City   \n",
      "1        6304287      Izakaya Kikufuji           162       Makati City   \n",
      "2        6300002  Heat  Edsa ShangriLa           162  Mandaluyong City   \n",
      "3        6318506                  Ooma           162  Mandaluyong City   \n",
      "4        6314302           Sambo Kojin           162  Mandaluyong City   \n",
      "\n",
      "                                             Address  \\\n",
      "0  Third Floor, Century City Mall, Kalayaan Avenu...   \n",
      "1  Little Tokyo, 2277 Chino Roces Avenue, Legaspi...   \n",
      "2  Edsa ShangriLa, 1 Garden Way, Ortigas, Mandalu...   \n",
      "3  Third Floor, Mega Fashion Hall, SM Megamall, O...   \n",
      "4  Third Floor, Mega Atrium, SM Megamall, Ortigas...   \n",
      "\n",
      "                                     Locality  \\\n",
      "0   Century City Mall, Poblacion, Makati City   \n",
      "1  Little Tokyo, Legaspi Village, Makati City   \n",
      "2   Edsa ShangriLa, Ortigas, Mandaluyong City   \n",
      "3      SM Megamall, Ortigas, Mandaluyong City   \n",
      "4      SM Megamall, Ortigas, Mandaluyong City   \n",
      "\n",
      "                                    Locality Verbose   Longitude   Latitude  \\\n",
      "0  Century City Mall, Poblacion, Makati City, Mak...  121.027535  14.565443   \n",
      "1  Little Tokyo, Legaspi Village, Makati City, Ma...  121.014101  14.553708   \n",
      "2  Edsa ShangriLa, Ortigas, Mandaluyong City, Man...  121.056831  14.581404   \n",
      "3  SM Megamall, Ortigas, Mandaluyong City, Mandal...  121.056475  14.585318   \n",
      "4  SM Megamall, Ortigas, Mandaluyong City, Mandal...  121.057508  14.584450   \n",
      "\n",
      "                           Cuisines  ...        Currency Has Table booking  \\\n",
      "0        French, Japanese, Desserts  ...  Botswana PulaP               Yes   \n",
      "1                          Japanese  ...  Botswana PulaP               Yes   \n",
      "2  Seafood, Asian, Filipino, Indian  ...  Botswana PulaP               Yes   \n",
      "3                   Japanese, Sushi  ...  Botswana PulaP                No   \n",
      "4                  Japanese, Korean  ...  Botswana PulaP               Yes   \n",
      "\n",
      "  Has Online delivery Is delivering now Switch to order menu Price range  \\\n",
      "0                  No                No                   No           3   \n",
      "1                  No                No                   No           3   \n",
      "2                  No                No                   No           4   \n",
      "3                  No                No                   No           4   \n",
      "4                  No                No                   No           4   \n",
      "\n",
      "   Aggregate rating  Rating color Rating text Votes  \n",
      "0               4.8    Dark Green   Excellent   314  \n",
      "1               4.5    Dark Green   Excellent   591  \n",
      "2               4.4         Green   Very Good   270  \n",
      "3               4.9    Dark Green   Excellent   365  \n",
      "4               4.8    Dark Green   Excellent   229  \n",
      "\n",
      "[5 rows x 21 columns]\n"
     ]
    }
   ],
   "source": [
    "data_cleaned = data.map(clean_text)\n",
    "data_cleaned.to_csv(\"cleaned_dataset.csv\", index=False)\n",
    "print(data_cleaned.head())"
   ]
  },
  {
   "cell_type": "code",
   "execution_count": 5,
   "id": "7bb7b9fa-c434-40d3-a1cc-9bb2f2e23436",
   "metadata": {},
   "outputs": [
    {
     "data": {
      "text/html": [
       "<div>\n",
       "<style scoped>\n",
       "    .dataframe tbody tr th:only-of-type {\n",
       "        vertical-align: middle;\n",
       "    }\n",
       "\n",
       "    .dataframe tbody tr th {\n",
       "        vertical-align: top;\n",
       "    }\n",
       "\n",
       "    .dataframe thead th {\n",
       "        text-align: right;\n",
       "    }\n",
       "</style>\n",
       "<table border=\"1\" class=\"dataframe\">\n",
       "  <thead>\n",
       "    <tr style=\"text-align: right;\">\n",
       "      <th></th>\n",
       "      <th>Restaurant ID</th>\n",
       "      <th>Restaurant Name</th>\n",
       "      <th>Country Code</th>\n",
       "      <th>City</th>\n",
       "      <th>Address</th>\n",
       "      <th>Locality</th>\n",
       "      <th>Locality Verbose</th>\n",
       "      <th>Longitude</th>\n",
       "      <th>Latitude</th>\n",
       "      <th>Cuisines</th>\n",
       "      <th>...</th>\n",
       "      <th>Currency</th>\n",
       "      <th>Has Table booking</th>\n",
       "      <th>Has Online delivery</th>\n",
       "      <th>Is delivering now</th>\n",
       "      <th>Switch to order menu</th>\n",
       "      <th>Price range</th>\n",
       "      <th>Aggregate rating</th>\n",
       "      <th>Rating color</th>\n",
       "      <th>Rating text</th>\n",
       "      <th>Votes</th>\n",
       "    </tr>\n",
       "  </thead>\n",
       "  <tbody>\n",
       "    <tr>\n",
       "      <th>0</th>\n",
       "      <td>6317637</td>\n",
       "      <td>Le Petit Souffle</td>\n",
       "      <td>162</td>\n",
       "      <td>Makati City</td>\n",
       "      <td>Third Floor, Century City Mall, Kalayaan Avenu...</td>\n",
       "      <td>Century City Mall, Poblacion, Makati City</td>\n",
       "      <td>Century City Mall, Poblacion, Makati City, Mak...</td>\n",
       "      <td>121.027535</td>\n",
       "      <td>14.565443</td>\n",
       "      <td>French, Japanese, Desserts</td>\n",
       "      <td>...</td>\n",
       "      <td>Botswana PulaP</td>\n",
       "      <td>Yes</td>\n",
       "      <td>No</td>\n",
       "      <td>No</td>\n",
       "      <td>No</td>\n",
       "      <td>3</td>\n",
       "      <td>4.8</td>\n",
       "      <td>Dark Green</td>\n",
       "      <td>Excellent</td>\n",
       "      <td>314</td>\n",
       "    </tr>\n",
       "    <tr>\n",
       "      <th>1</th>\n",
       "      <td>6304287</td>\n",
       "      <td>Izakaya Kikufuji</td>\n",
       "      <td>162</td>\n",
       "      <td>Makati City</td>\n",
       "      <td>Little Tokyo, 2277 Chino Roces Avenue, Legaspi...</td>\n",
       "      <td>Little Tokyo, Legaspi Village, Makati City</td>\n",
       "      <td>Little Tokyo, Legaspi Village, Makati City, Ma...</td>\n",
       "      <td>121.014101</td>\n",
       "      <td>14.553708</td>\n",
       "      <td>Japanese</td>\n",
       "      <td>...</td>\n",
       "      <td>Botswana PulaP</td>\n",
       "      <td>Yes</td>\n",
       "      <td>No</td>\n",
       "      <td>No</td>\n",
       "      <td>No</td>\n",
       "      <td>3</td>\n",
       "      <td>4.5</td>\n",
       "      <td>Dark Green</td>\n",
       "      <td>Excellent</td>\n",
       "      <td>591</td>\n",
       "    </tr>\n",
       "    <tr>\n",
       "      <th>2</th>\n",
       "      <td>6300002</td>\n",
       "      <td>Heat  Edsa ShangriLa</td>\n",
       "      <td>162</td>\n",
       "      <td>Mandaluyong City</td>\n",
       "      <td>Edsa ShangriLa, 1 Garden Way, Ortigas, Mandalu...</td>\n",
       "      <td>Edsa ShangriLa, Ortigas, Mandaluyong City</td>\n",
       "      <td>Edsa ShangriLa, Ortigas, Mandaluyong City, Man...</td>\n",
       "      <td>121.056831</td>\n",
       "      <td>14.581404</td>\n",
       "      <td>Seafood, Asian, Filipino, Indian</td>\n",
       "      <td>...</td>\n",
       "      <td>Botswana PulaP</td>\n",
       "      <td>Yes</td>\n",
       "      <td>No</td>\n",
       "      <td>No</td>\n",
       "      <td>No</td>\n",
       "      <td>4</td>\n",
       "      <td>4.4</td>\n",
       "      <td>Green</td>\n",
       "      <td>Very Good</td>\n",
       "      <td>270</td>\n",
       "    </tr>\n",
       "    <tr>\n",
       "      <th>3</th>\n",
       "      <td>6318506</td>\n",
       "      <td>Ooma</td>\n",
       "      <td>162</td>\n",
       "      <td>Mandaluyong City</td>\n",
       "      <td>Third Floor, Mega Fashion Hall, SM Megamall, O...</td>\n",
       "      <td>SM Megamall, Ortigas, Mandaluyong City</td>\n",
       "      <td>SM Megamall, Ortigas, Mandaluyong City, Mandal...</td>\n",
       "      <td>121.056475</td>\n",
       "      <td>14.585318</td>\n",
       "      <td>Japanese, Sushi</td>\n",
       "      <td>...</td>\n",
       "      <td>Botswana PulaP</td>\n",
       "      <td>No</td>\n",
       "      <td>No</td>\n",
       "      <td>No</td>\n",
       "      <td>No</td>\n",
       "      <td>4</td>\n",
       "      <td>4.9</td>\n",
       "      <td>Dark Green</td>\n",
       "      <td>Excellent</td>\n",
       "      <td>365</td>\n",
       "    </tr>\n",
       "    <tr>\n",
       "      <th>4</th>\n",
       "      <td>6314302</td>\n",
       "      <td>Sambo Kojin</td>\n",
       "      <td>162</td>\n",
       "      <td>Mandaluyong City</td>\n",
       "      <td>Third Floor, Mega Atrium, SM Megamall, Ortigas...</td>\n",
       "      <td>SM Megamall, Ortigas, Mandaluyong City</td>\n",
       "      <td>SM Megamall, Ortigas, Mandaluyong City, Mandal...</td>\n",
       "      <td>121.057508</td>\n",
       "      <td>14.584450</td>\n",
       "      <td>Japanese, Korean</td>\n",
       "      <td>...</td>\n",
       "      <td>Botswana PulaP</td>\n",
       "      <td>Yes</td>\n",
       "      <td>No</td>\n",
       "      <td>No</td>\n",
       "      <td>No</td>\n",
       "      <td>4</td>\n",
       "      <td>4.8</td>\n",
       "      <td>Dark Green</td>\n",
       "      <td>Excellent</td>\n",
       "      <td>229</td>\n",
       "    </tr>\n",
       "    <tr>\n",
       "      <th>...</th>\n",
       "      <td>...</td>\n",
       "      <td>...</td>\n",
       "      <td>...</td>\n",
       "      <td>...</td>\n",
       "      <td>...</td>\n",
       "      <td>...</td>\n",
       "      <td>...</td>\n",
       "      <td>...</td>\n",
       "      <td>...</td>\n",
       "      <td>...</td>\n",
       "      <td>...</td>\n",
       "      <td>...</td>\n",
       "      <td>...</td>\n",
       "      <td>...</td>\n",
       "      <td>...</td>\n",
       "      <td>...</td>\n",
       "      <td>...</td>\n",
       "      <td>...</td>\n",
       "      <td>...</td>\n",
       "      <td>...</td>\n",
       "      <td>...</td>\n",
       "    </tr>\n",
       "    <tr>\n",
       "      <th>9546</th>\n",
       "      <td>5915730</td>\n",
       "      <td>Naml1 Gurme</td>\n",
       "      <td>208</td>\n",
       "      <td>stanbul</td>\n",
       "      <td>Kemanke Karamustafa Paa Mahallesi, R1ht1m Cadd...</td>\n",
       "      <td>Karaky</td>\n",
       "      <td>Karaky, stanbul</td>\n",
       "      <td>28.977392</td>\n",
       "      <td>41.022793</td>\n",
       "      <td>Turkish</td>\n",
       "      <td>...</td>\n",
       "      <td>Turkish LiraTL</td>\n",
       "      <td>No</td>\n",
       "      <td>No</td>\n",
       "      <td>No</td>\n",
       "      <td>No</td>\n",
       "      <td>3</td>\n",
       "      <td>4.1</td>\n",
       "      <td>Green</td>\n",
       "      <td>Very Good</td>\n",
       "      <td>788</td>\n",
       "    </tr>\n",
       "    <tr>\n",
       "      <th>9547</th>\n",
       "      <td>5908749</td>\n",
       "      <td>Ceviz Aac1</td>\n",
       "      <td>208</td>\n",
       "      <td>stanbul</td>\n",
       "      <td>Kouyolu Mahallesi, Muhittin stnda Caddesi, No ...</td>\n",
       "      <td>Kouyolu</td>\n",
       "      <td>Kouyolu, stanbul</td>\n",
       "      <td>29.041297</td>\n",
       "      <td>41.009847</td>\n",
       "      <td>World Cuisine, Patisserie, Cafe</td>\n",
       "      <td>...</td>\n",
       "      <td>Turkish LiraTL</td>\n",
       "      <td>No</td>\n",
       "      <td>No</td>\n",
       "      <td>No</td>\n",
       "      <td>No</td>\n",
       "      <td>3</td>\n",
       "      <td>4.2</td>\n",
       "      <td>Green</td>\n",
       "      <td>Very Good</td>\n",
       "      <td>1034</td>\n",
       "    </tr>\n",
       "    <tr>\n",
       "      <th>9548</th>\n",
       "      <td>5915807</td>\n",
       "      <td>Huqqa</td>\n",
       "      <td>208</td>\n",
       "      <td>stanbul</td>\n",
       "      <td>Kurueme Mahallesi, Muallim Naci Caddesi, No 56...</td>\n",
       "      <td>Kurueme</td>\n",
       "      <td>Kurueme, stanbul</td>\n",
       "      <td>29.034640</td>\n",
       "      <td>41.055817</td>\n",
       "      <td>Italian, World Cuisine</td>\n",
       "      <td>...</td>\n",
       "      <td>Turkish LiraTL</td>\n",
       "      <td>No</td>\n",
       "      <td>No</td>\n",
       "      <td>No</td>\n",
       "      <td>No</td>\n",
       "      <td>4</td>\n",
       "      <td>3.7</td>\n",
       "      <td>Yellow</td>\n",
       "      <td>Good</td>\n",
       "      <td>661</td>\n",
       "    </tr>\n",
       "    <tr>\n",
       "      <th>9549</th>\n",
       "      <td>5916112</td>\n",
       "      <td>Ak Kahve</td>\n",
       "      <td>208</td>\n",
       "      <td>stanbul</td>\n",
       "      <td>Kurueme Mahallesi, Muallim Naci Caddesi, No 64...</td>\n",
       "      <td>Kurueme</td>\n",
       "      <td>Kurueme, stanbul</td>\n",
       "      <td>29.036019</td>\n",
       "      <td>41.057979</td>\n",
       "      <td>Restaurant Cafe</td>\n",
       "      <td>...</td>\n",
       "      <td>Turkish LiraTL</td>\n",
       "      <td>No</td>\n",
       "      <td>No</td>\n",
       "      <td>No</td>\n",
       "      <td>No</td>\n",
       "      <td>4</td>\n",
       "      <td>4.0</td>\n",
       "      <td>Green</td>\n",
       "      <td>Very Good</td>\n",
       "      <td>901</td>\n",
       "    </tr>\n",
       "    <tr>\n",
       "      <th>9550</th>\n",
       "      <td>5927402</td>\n",
       "      <td>Walters Coffee Roastery</td>\n",
       "      <td>208</td>\n",
       "      <td>stanbul</td>\n",
       "      <td>Cafeaa Mahallesi, Bademalt1 Sokak, No 21B, Kad...</td>\n",
       "      <td>Moda</td>\n",
       "      <td>Moda, stanbul</td>\n",
       "      <td>29.026016</td>\n",
       "      <td>40.984776</td>\n",
       "      <td>Cafe</td>\n",
       "      <td>...</td>\n",
       "      <td>Turkish LiraTL</td>\n",
       "      <td>No</td>\n",
       "      <td>No</td>\n",
       "      <td>No</td>\n",
       "      <td>No</td>\n",
       "      <td>2</td>\n",
       "      <td>4.0</td>\n",
       "      <td>Green</td>\n",
       "      <td>Very Good</td>\n",
       "      <td>591</td>\n",
       "    </tr>\n",
       "  </tbody>\n",
       "</table>\n",
       "<p>9551 rows × 21 columns</p>\n",
       "</div>"
      ],
      "text/plain": [
       "      Restaurant ID          Restaurant Name  Country Code              City  \\\n",
       "0           6317637         Le Petit Souffle           162       Makati City   \n",
       "1           6304287         Izakaya Kikufuji           162       Makati City   \n",
       "2           6300002     Heat  Edsa ShangriLa           162  Mandaluyong City   \n",
       "3           6318506                     Ooma           162  Mandaluyong City   \n",
       "4           6314302              Sambo Kojin           162  Mandaluyong City   \n",
       "...             ...                      ...           ...               ...   \n",
       "9546        5915730              Naml1 Gurme           208           stanbul   \n",
       "9547        5908749               Ceviz Aac1           208           stanbul   \n",
       "9548        5915807                    Huqqa           208           stanbul   \n",
       "9549        5916112                 Ak Kahve           208           stanbul   \n",
       "9550        5927402  Walters Coffee Roastery           208           stanbul   \n",
       "\n",
       "                                                Address  \\\n",
       "0     Third Floor, Century City Mall, Kalayaan Avenu...   \n",
       "1     Little Tokyo, 2277 Chino Roces Avenue, Legaspi...   \n",
       "2     Edsa ShangriLa, 1 Garden Way, Ortigas, Mandalu...   \n",
       "3     Third Floor, Mega Fashion Hall, SM Megamall, O...   \n",
       "4     Third Floor, Mega Atrium, SM Megamall, Ortigas...   \n",
       "...                                                 ...   \n",
       "9546  Kemanke Karamustafa Paa Mahallesi, R1ht1m Cadd...   \n",
       "9547  Kouyolu Mahallesi, Muhittin stnda Caddesi, No ...   \n",
       "9548  Kurueme Mahallesi, Muallim Naci Caddesi, No 56...   \n",
       "9549  Kurueme Mahallesi, Muallim Naci Caddesi, No 64...   \n",
       "9550  Cafeaa Mahallesi, Bademalt1 Sokak, No 21B, Kad...   \n",
       "\n",
       "                                        Locality  \\\n",
       "0      Century City Mall, Poblacion, Makati City   \n",
       "1     Little Tokyo, Legaspi Village, Makati City   \n",
       "2      Edsa ShangriLa, Ortigas, Mandaluyong City   \n",
       "3         SM Megamall, Ortigas, Mandaluyong City   \n",
       "4         SM Megamall, Ortigas, Mandaluyong City   \n",
       "...                                          ...   \n",
       "9546                                      Karaky   \n",
       "9547                                     Kouyolu   \n",
       "9548                                     Kurueme   \n",
       "9549                                     Kurueme   \n",
       "9550                                        Moda   \n",
       "\n",
       "                                       Locality Verbose   Longitude  \\\n",
       "0     Century City Mall, Poblacion, Makati City, Mak...  121.027535   \n",
       "1     Little Tokyo, Legaspi Village, Makati City, Ma...  121.014101   \n",
       "2     Edsa ShangriLa, Ortigas, Mandaluyong City, Man...  121.056831   \n",
       "3     SM Megamall, Ortigas, Mandaluyong City, Mandal...  121.056475   \n",
       "4     SM Megamall, Ortigas, Mandaluyong City, Mandal...  121.057508   \n",
       "...                                                 ...         ...   \n",
       "9546                                    Karaky, stanbul   28.977392   \n",
       "9547                                   Kouyolu, stanbul   29.041297   \n",
       "9548                                   Kurueme, stanbul   29.034640   \n",
       "9549                                   Kurueme, stanbul   29.036019   \n",
       "9550                                      Moda, stanbul   29.026016   \n",
       "\n",
       "       Latitude                          Cuisines  ...        Currency  \\\n",
       "0     14.565443        French, Japanese, Desserts  ...  Botswana PulaP   \n",
       "1     14.553708                          Japanese  ...  Botswana PulaP   \n",
       "2     14.581404  Seafood, Asian, Filipino, Indian  ...  Botswana PulaP   \n",
       "3     14.585318                   Japanese, Sushi  ...  Botswana PulaP   \n",
       "4     14.584450                  Japanese, Korean  ...  Botswana PulaP   \n",
       "...         ...                               ...  ...             ...   \n",
       "9546  41.022793                           Turkish  ...  Turkish LiraTL   \n",
       "9547  41.009847   World Cuisine, Patisserie, Cafe  ...  Turkish LiraTL   \n",
       "9548  41.055817            Italian, World Cuisine  ...  Turkish LiraTL   \n",
       "9549  41.057979                   Restaurant Cafe  ...  Turkish LiraTL   \n",
       "9550  40.984776                              Cafe  ...  Turkish LiraTL   \n",
       "\n",
       "     Has Table booking Has Online delivery Is delivering now  \\\n",
       "0                  Yes                  No                No   \n",
       "1                  Yes                  No                No   \n",
       "2                  Yes                  No                No   \n",
       "3                   No                  No                No   \n",
       "4                  Yes                  No                No   \n",
       "...                ...                 ...               ...   \n",
       "9546                No                  No                No   \n",
       "9547                No                  No                No   \n",
       "9548                No                  No                No   \n",
       "9549                No                  No                No   \n",
       "9550                No                  No                No   \n",
       "\n",
       "     Switch to order menu Price range  Aggregate rating  Rating color  \\\n",
       "0                      No           3               4.8    Dark Green   \n",
       "1                      No           3               4.5    Dark Green   \n",
       "2                      No           4               4.4         Green   \n",
       "3                      No           4               4.9    Dark Green   \n",
       "4                      No           4               4.8    Dark Green   \n",
       "...                   ...         ...               ...           ...   \n",
       "9546                   No           3               4.1         Green   \n",
       "9547                   No           3               4.2         Green   \n",
       "9548                   No           4               3.7        Yellow   \n",
       "9549                   No           4               4.0         Green   \n",
       "9550                   No           2               4.0         Green   \n",
       "\n",
       "     Rating text Votes  \n",
       "0      Excellent   314  \n",
       "1      Excellent   591  \n",
       "2      Very Good   270  \n",
       "3      Excellent   365  \n",
       "4      Excellent   229  \n",
       "...          ...   ...  \n",
       "9546   Very Good   788  \n",
       "9547   Very Good  1034  \n",
       "9548        Good   661  \n",
       "9549   Very Good   901  \n",
       "9550   Very Good   591  \n",
       "\n",
       "[9551 rows x 21 columns]"
      ]
     },
     "execution_count": 5,
     "metadata": {},
     "output_type": "execute_result"
    }
   ],
   "source": [
    "df = pd.read_csv(\"D:/Cognifyz Technologies Project/Restaurant_Analysis/cleaned_dataset.csv\")\n",
    "df"
   ]
  },
  {
   "cell_type": "code",
   "execution_count": 6,
   "id": "e3bdaaad-2dae-414e-b3cd-e7c76dc0aa36",
   "metadata": {},
   "outputs": [
    {
     "name": "stdout",
     "output_type": "stream",
     "text": [
      "<class 'pandas.core.frame.DataFrame'>\n",
      "RangeIndex: 9551 entries, 0 to 9550\n",
      "Data columns (total 21 columns):\n",
      " #   Column                Non-Null Count  Dtype  \n",
      "---  ------                --------------  -----  \n",
      " 0   Restaurant ID         9551 non-null   int64  \n",
      " 1   Restaurant Name       9551 non-null   object \n",
      " 2   Country Code          9551 non-null   int64  \n",
      " 3   City                  9551 non-null   object \n",
      " 4   Address               9551 non-null   object \n",
      " 5   Locality              9551 non-null   object \n",
      " 6   Locality Verbose      9551 non-null   object \n",
      " 7   Longitude             9551 non-null   float64\n",
      " 8   Latitude              9551 non-null   float64\n",
      " 9   Cuisines              9542 non-null   object \n",
      " 10  Average Cost for two  9551 non-null   int64  \n",
      " 11  Currency              9551 non-null   object \n",
      " 12  Has Table booking     9551 non-null   object \n",
      " 13  Has Online delivery   9551 non-null   object \n",
      " 14  Is delivering now     9551 non-null   object \n",
      " 15  Switch to order menu  9551 non-null   object \n",
      " 16  Price range           9551 non-null   int64  \n",
      " 17  Aggregate rating      9551 non-null   float64\n",
      " 18  Rating color          9551 non-null   object \n",
      " 19  Rating text           9551 non-null   object \n",
      " 20  Votes                 9551 non-null   int64  \n",
      "dtypes: float64(3), int64(5), object(13)\n",
      "memory usage: 1.5+ MB\n"
     ]
    }
   ],
   "source": [
    "df.info()"
   ]
  },
  {
   "cell_type": "code",
   "execution_count": 7,
   "id": "7f416a18-0616-4282-9a76-f6530ed14fe4",
   "metadata": {},
   "outputs": [
    {
     "data": {
      "text/plain": [
       "Restaurant ID           0\n",
       "Restaurant Name         0\n",
       "Country Code            0\n",
       "City                    0\n",
       "Address                 0\n",
       "Locality                0\n",
       "Locality Verbose        0\n",
       "Longitude               0\n",
       "Latitude                0\n",
       "Cuisines                9\n",
       "Average Cost for two    0\n",
       "Currency                0\n",
       "Has Table booking       0\n",
       "Has Online delivery     0\n",
       "Is delivering now       0\n",
       "Switch to order menu    0\n",
       "Price range             0\n",
       "Aggregate rating        0\n",
       "Rating color            0\n",
       "Rating text             0\n",
       "Votes                   0\n",
       "dtype: int64"
      ]
     },
     "execution_count": 7,
     "metadata": {},
     "output_type": "execute_result"
    }
   ],
   "source": [
    "df.isnull().sum()"
   ]
  },
  {
   "cell_type": "code",
   "execution_count": 9,
   "id": "6bd4dbf2-d520-4c3c-a935-e6eb162314d0",
   "metadata": {},
   "outputs": [],
   "source": [
    "df['Cuisines'].fillna('None' , inplace = True)"
   ]
  },
  {
   "cell_type": "markdown",
   "id": "3c058443-102d-4f50-aa43-8ee210888abd",
   "metadata": {},
   "source": [
    "# Level  1 :\n",
    "\n",
    "**Task 1**: **Top Cuisines**\n"
   ]
  },
  {
   "cell_type": "code",
   "execution_count": 10,
   "id": "5a756647-f2b6-4e93-a023-a877680eb867",
   "metadata": {},
   "outputs": [
    {
     "name": "stdout",
     "output_type": "stream",
     "text": [
      "Cuisines\n",
      "North Indian    3960\n",
      "Chinese         2735\n",
      "Fast Food       1986\n",
      "Name: count, dtype: int64\n",
      "\n",
      "Cuisines\n",
      "North Indian    41.46\n",
      "Chinese         28.64\n",
      "Fast Food       20.79\n",
      "Name: count, dtype: float64\n"
     ]
    }
   ],
   "source": [
    "cuisines_series = df['Cuisines'].str.split(', ').explode()\n",
    "cuisine_counts = cuisines_series.value_counts()\n",
    "top_cuisnines = cuisine_counts.nlargest(3)\n",
    "top_cuisines_percentage = (top_cuisnines / len(df) * 100).round(2)\n",
    "print(top_cuisnines)\n",
    "print()\n",
    "print(top_cuisines_percentage)\n"
   ]
  },
  {
   "cell_type": "markdown",
   "id": "4ed26148-aa48-401d-a8a6-b63aab754444",
   "metadata": {},
   "source": [
    "**Task 2**\n",
    "**City Analysis**"
   ]
  },
  {
   "cell_type": "code",
   "execution_count": 11,
   "id": "a3832c0e-b1e3-4022-a469-2b0f91005023",
   "metadata": {},
   "outputs": [
    {
     "name": "stdout",
     "output_type": "stream",
     "text": [
      "City\n",
      "New Delhi         5473\n",
      "Gurgaon           1118\n",
      "Noida             1080\n",
      "Faridabad          251\n",
      "Ghaziabad           25\n",
      "                  ... \n",
      "Lakes Entrance       1\n",
      "Mohali               1\n",
      "Panchkula            1\n",
      "Bandung              1\n",
      "Randburg             1\n",
      "Name: count, Length: 141, dtype: int64\n"
     ]
    }
   ],
   "source": [
    "top_city = df['City'].value_counts()\n",
    "print(top_city)"
   ]
  },
  {
   "cell_type": "code",
   "execution_count": 12,
   "id": "d734b961-6667-4471-a8ad-6d21f684c95c",
   "metadata": {},
   "outputs": [
    {
     "name": "stdout",
     "output_type": "stream",
     "text": [
      "New Delhi\n"
     ]
    }
   ],
   "source": [
    "top_city = df['City'].value_counts().idxmax()\n",
    "print(top_city)"
   ]
  },
  {
   "cell_type": "code",
   "execution_count": 13,
   "id": "ec97612a-69de-4cd0-925f-964b7818f9b5",
   "metadata": {},
   "outputs": [
    {
     "name": "stdout",
     "output_type": "stream",
     "text": [
      "City\n",
      "Abu Dhabi          4.30\n",
      "Agra               3.96\n",
      "Ahmedabad          4.16\n",
      "Albany             3.56\n",
      "Allahabad          3.40\n",
      "                   ... \n",
      "Weirton            3.90\n",
      "Wellington City    4.25\n",
      "Winchester Bay     3.20\n",
      "Yorkton            3.30\n",
      "stanbul            4.29\n",
      "Name: Aggregate rating, Length: 141, dtype: float64\n"
     ]
    }
   ],
   "source": [
    "Avg_rating = df.groupby('City')['Aggregate rating'].mean().round(2)\n",
    "print(Avg_rating)"
   ]
  },
  {
   "cell_type": "code",
   "execution_count": 14,
   "id": "212916b0-62da-4ae3-a9fa-6434c1e7b8fa",
   "metadata": {},
   "outputs": [
    {
     "name": "stdout",
     "output_type": "stream",
     "text": [
      "Inner City\n"
     ]
    }
   ],
   "source": [
    "top_avg_rating_city = Avg_rating.idxmax()\n",
    "print(top_avg_rating_city)"
   ]
  },
  {
   "cell_type": "markdown",
   "id": "e913e7b2-1f8c-44f2-a6fa-21fa5019b57b",
   "metadata": {},
   "source": [
    "**Task 3: Price Range Distribution**\n"
   ]
  },
  {
   "cell_type": "code",
   "execution_count": 15,
   "id": "c01ab529-f482-48b4-8ad1-ae2110b2a456",
   "metadata": {},
   "outputs": [
    {
     "name": "stdout",
     "output_type": "stream",
     "text": [
      "Price range\n",
      "1    4444\n",
      "2    3113\n",
      "3    1408\n",
      "4     586\n",
      "Name: count, dtype: int64\n"
     ]
    }
   ],
   "source": [
    "price_range_dis = df['Price range'].value_counts().sort_index()\n",
    "print(price_range_dis)\n"
   ]
  },
  {
   "cell_type": "code",
   "execution_count": 34,
   "id": "b0a86421-abab-45f5-940f-4ea9f058891a",
   "metadata": {},
   "outputs": [
    {
     "data": {
      "image/png": "[encoded data removed]",
      "text/plain": [
       "<Figure size 1000x600 with 1 Axes>"
      ]
     },
     "metadata": {},
     "output_type": "display_data"
    },
    {
     "data": {
      "text/plain": [
       "<Figure size 640x480 with 0 Axes>"
      ]
     },
     "metadata": {},
     "output_type": "display_data"
    }
   ],
   "source": [
    "plt.figure(figsize=(10,6))\n",
    "price_range_dis.plot(kind='bar', color='blue')\n",
    "plt.title('Distribution of Price Ranges Among Restaurants')\n",
    "plt.xlabel('Price Range')\n",
    "plt.ylabel('Number of Restaurants')\n",
    "plt.xticks(rotation=0)\n",
    "plt.grid(axis='y')\n",
    "plt.show()\n",
    "plt.savefig('Price_range.png')"
   ]
  },
  {
   "cell_type": "code",
   "execution_count": 17,
   "id": "fcb16810-96c4-4916-ac9b-63594733df14",
   "metadata": {},
   "outputs": [
    {
     "name": "stdout",
     "output_type": "stream",
     "text": [
      "Price range\n",
      "1    46.53\n",
      "2    32.59\n",
      "3    14.74\n",
      "4     6.14\n",
      "Name: count, dtype: float64\n"
     ]
    }
   ],
   "source": [
    "price_range_percentage = (price_range_dis / len(df) * 100).round(2)\n",
    "print(price_range_percentage)"
   ]
  },
  {
   "cell_type": "markdown",
   "id": "98910190-9867-4f3a-95af-d33e17d9695c",
   "metadata": {},
   "source": [
    "**Task 4: Online Delivery**"
   ]
  },
  {
   "cell_type": "code",
   "execution_count": 18,
   "id": "48357064-2502-4800-baa8-4689a56f8a69",
   "metadata": {},
   "outputs": [
    {
     "name": "stdout",
     "output_type": "stream",
     "text": [
      "25.662234321013504\n"
     ]
    }
   ],
   "source": [
    "Online_delivery_percentage = (df['Has Online delivery'] == 'Yes').mean() * 100\n",
    "print(Online_delivery_percentage)"
   ]
  },
  {
   "cell_type": "code",
   "execution_count": 19,
   "id": "dd39865f-e6a3-483e-be9e-033ae88a0372",
   "metadata": {},
   "outputs": [
    {
     "name": "stdout",
     "output_type": "stream",
     "text": [
      "Has Online delivery\n",
      "No     2.47\n",
      "Yes    3.25\n",
      "Name: Aggregate rating, dtype: float64\n"
     ]
    }
   ],
   "source": [
    "avg_rating_online_delivery = df.groupby('Has Online delivery')['Aggregate rating'].mean().round(2)\n",
    "print(avg_rating_online_delivery)"
   ]
  },
  {
   "cell_type": "markdown",
   "id": "f26c7a2d-fc41-4af1-bf46-cb32c3ff56a4",
   "metadata": {},
   "source": [
    "# Level 2"
   ]
  },
  {
   "cell_type": "markdown",
   "id": "037326c2-3110-415e-bb90-1fe1677b2fea",
   "metadata": {},
   "source": [
    "**Task: Restaurant Ratings**"
   ]
  },
  {
   "cell_type": "code",
   "execution_count": 20,
   "id": "cb415aaa-24c3-4603-913a-54150751a23b",
   "metadata": {},
   "outputs": [
    {
     "name": "stdout",
     "output_type": "stream",
     "text": [
      "0    0.0\n",
      "Name: Aggregate rating, dtype: float64\n"
     ]
    }
   ],
   "source": [
    "most_common_rating = df['Aggregate rating'].mode()\n",
    "print(most_common_rating)"
   ]
  },
  {
   "cell_type": "code",
   "execution_count": 21,
   "id": "10b223b2-5782-4196-a884-f9c26a9bd3fd",
   "metadata": {},
   "outputs": [
    {
     "name": "stdout",
     "output_type": "stream",
     "text": [
      "156.91\n"
     ]
    }
   ],
   "source": [
    "average_votes = df['Votes'].mean().round(2)\n",
    "print(average_votes)"
   ]
  },
  {
   "cell_type": "code",
   "execution_count": 35,
   "id": "5a2116b2-a9eb-4e0e-8e34-61a306452662",
   "metadata": {},
   "outputs": [
    {
     "data": {
      "image/png": "[encoded data removed]",
      "text/plain": [
       "<Figure size 1000x600 with 1 Axes>"
      ]
     },
     "metadata": {},
     "output_type": "display_data"
    },
    {
     "data": {
      "text/plain": [
       "<Figure size 640x480 with 0 Axes>"
      ]
     },
     "metadata": {},
     "output_type": "display_data"
    }
   ],
   "source": [
    "plt.figure(figsize=(10, 6))\n",
    "df['Aggregate rating'].hist(bins=10, color='blue')\n",
    "plt.title('Distribution of Aggregate Ratings')\n",
    "plt.xlabel('Aggregate Rating')\n",
    "plt.ylabel('Number of Restaurants')\n",
    "plt.show()\n",
    "plt.savefig('Aggregate_rating.png')"
   ]
  },
  {
   "cell_type": "markdown",
   "id": "a356d70f-9907-47e2-a26c-dae68f7c9787",
   "metadata": {},
   "source": [
    "**Task: Cuisine Combination**"
   ]
  },
  {
   "cell_type": "code",
   "execution_count": 23,
   "id": "de014ac8-871b-4a06-836a-59c7b0cf422a",
   "metadata": {},
   "outputs": [
    {
     "name": "stdout",
     "output_type": "stream",
     "text": [
      "Cuisines\n",
      "North Indian                      936\n",
      "North Indian, Chinese             511\n",
      "Chinese                           354\n",
      "Fast Food                         354\n",
      "North Indian, Mughlai             334\n",
      "Cafe                              299\n",
      "Bakery                            218\n",
      "North Indian, Mughlai, Chinese    197\n",
      "Bakery, Desserts                  170\n",
      "Street Food                       149\n",
      "Name: count, dtype: int64\n"
     ]
    }
   ],
   "source": [
    "cuisine_combinations = df['Cuisines'].value_counts().head(10)\n",
    "print(cuisine_combinations)"
   ]
  },
  {
   "cell_type": "code",
   "execution_count": 24,
   "id": "b9c89d88-8cf1-47a5-8c5d-68efb5344c86",
   "metadata": {},
   "outputs": [
    {
     "name": "stdout",
     "output_type": "stream",
     "text": [
      "Cuisines\n",
      "American, Caribbean, Seafood       4.9\n",
      "American, Burger, Grill            4.9\n",
      "European, Contemporary             4.9\n",
      "Sunda, Indonesian                  4.9\n",
      "American, Coffee and Tea           4.9\n",
      "American, Sandwich, Tea            4.9\n",
      "American, BBQ, Sandwich            4.9\n",
      "Italian, Bakery, Continental       4.9\n",
      "Italian, Deli                      4.9\n",
      "Mexican, American, Healthy Food    4.9\n",
      "Name: Aggregate rating, dtype: float64\n"
     ]
    }
   ],
   "source": [
    "cuisine_combination_ratings = df.groupby('Cuisines')['Aggregate rating'].mean().sort_values(ascending=False).head(10)\n",
    "print(cuisine_combination_ratings)"
   ]
  },
  {
   "cell_type": "markdown",
   "id": "17c05aa8-ce39-42d9-8059-64dbf4896b10",
   "metadata": {},
   "source": [
    "**Task: Geographic Analysis**"
   ]
  },
  {
   "cell_type": "code",
   "execution_count": 36,
   "id": "a898d8ea-90b3-4c42-a2d7-c1a65eb340be",
   "metadata": {},
   "outputs": [
    {
     "data": {
      "image/png": "[encoded data removed]",
      "text/plain": [
       "<Figure size 1000x1000 with 1 Axes>"
      ]
     },
     "metadata": {},
     "output_type": "display_data"
    },
    {
     "data": {
      "text/plain": [
       "<Figure size 640x480 with 0 Axes>"
      ]
     },
     "metadata": {},
     "output_type": "display_data"
    }
   ],
   "source": [
    "import geopandas as gpd\n",
    "import matplotlib.pyplot as pl\n",
    "from shapely.geometry import Point\n",
    "\n",
    "geometry = [Point(xy) for xy in zip(data['Longitude'], data['Latitude'])]\n",
    "geo_df = gpd.GeoDataFrame(data, geometry=geometry)\n",
    "\n",
    "fig, ax = plt.subplots(figsize=(10, 10))\n",
    "geo_df.plot(ax=ax, markersize=5, color='blue', marker='o', label='Restaurant')\n",
    "plt.title('Geographical Distribution of Restaurants')\n",
    "plt.xlabel('Longitude')\n",
    "plt.ylabel('Latitude')\n",
    "plt.legend()\n",
    "plt.show()\n",
    "plt.savefig('Geographical_distribution.png')"
   ]
  },
  {
   "cell_type": "code",
   "execution_count": 37,
   "id": "aa0dc6da-5f6d-48eb-8308-a65c9de3a1b4",
   "metadata": {},
   "outputs": [
    {
     "data": {
      "image/png": "[encoded data removed]",
      "text/plain": [
       "<Figure size 1000x1000 with 2 Axes>"
      ]
     },
     "metadata": {},
     "output_type": "display_data"
    },
    {
     "data": {
      "text/plain": [
       "<Figure size 640x480 with 0 Axes>"
      ]
     },
     "metadata": {},
     "output_type": "display_data"
    }
   ],
   "source": [
    "from sklearn.cluster import DBSCAN\n",
    "import numpy as np\n",
    "coordinates = data[['Latitude', 'Longitude']].to_numpy()\n",
    "db = DBSCAN(eps=0.01, min_samples=5).fit(coordinates)\n",
    "data['Cluster'] = db.labels_\n",
    "\n",
    "fig, ax = plt.subplots(figsize=(10, 10))\n",
    "geo_df['Cluster'] = data['Cluster']\n",
    "geo_df.plot(column='Cluster', ax=ax, markersize=5, cmap='tab20', legend=True)\n",
    "plt.title('Geographical Clusters of Restaurants')\n",
    "plt.xlabel('Longitude')\n",
    "plt.ylabel('Latitude')\n",
    "plt.show()\n",
    "plt.savefig('Geographical_cluster.png')\n"
   ]
  },
  {
   "cell_type": "markdown",
   "id": "a6fe126c-fac3-4f81-bd50-de5b861d04d9",
   "metadata": {},
   "source": [
    "**Task: Restaurant Chains**"
   ]
  },
  {
   "cell_type": "code",
   "execution_count": 27,
   "id": "b8e68bdf-7f17-43ef-b072-35815437a67c",
   "metadata": {},
   "outputs": [
    {
     "name": "stdout",
     "output_type": "stream",
     "text": [
      "Restaurant Name\n",
      "Cafe Coffee Day            83\n",
      "Dominos Pizza              79\n",
      "Subway                     63\n",
      "Green Chick Chop           51\n",
      "McDonalds                  48\n",
      "                           ..\n",
      "Naml1 Gurme                 1\n",
      "Ceviz Aac1                  1\n",
      "Huqqa                       1\n",
      "Ak Kahve                    1\n",
      "Walters Coffee Roastery     1\n",
      "Name: count, Length: 7430, dtype: int64\n",
      "Duplicate Restaurant Names\n",
      "Restaurant Name\n",
      "Cafe Coffee Day     83\n",
      "Dominos Pizza       79\n",
      "Subway              63\n",
      "Green Chick Chop    51\n",
      "McDonalds           48\n",
      "                    ..\n",
      "San Carlo            2\n",
      "Gymkhana             2\n",
      "Dishoom              2\n",
      "Timboo Cafe          2\n",
      "Dverolu              2\n",
      "Name: count, Length: 739, dtype: int64\n"
     ]
    }
   ],
   "source": [
    "restaurant_chains = df['Restaurant Name'].value_counts()\n",
    "chains = restaurant_chains[restaurant_chains > 1]\n",
    "print(restaurant_chains)\n",
    "print('Duplicate Restaurant Names')\n",
    "print(chains)"
   ]
  },
  {
   "cell_type": "code",
   "execution_count": 28,
   "id": "282504ad-7237-432e-bdf8-1d662543f869",
   "metadata": {},
   "outputs": [
    {
     "name": "stdout",
     "output_type": "stream",
     "text": [
      "Restaurant Chains and their Average Ratings:\n",
      "Restaurant Name\n",
      "10 Downing Street       4.000000\n",
      "221 B Baker Street      3.366667\n",
      "34 Parkstreet Lane      3.050000\n",
      "34, Chowringhee Lane    2.791667\n",
      "4700BC Popcorn          3.500000\n",
      "                          ...   \n",
      "Zaika                   2.850000\n",
      "Zaika Kathi Rolls       1.500000\n",
      "Zizo                    3.866667\n",
      "Zoobys Kitchen          3.150000\n",
      "buno                    3.750000\n",
      "Name: Aggregate rating, Length: 739, dtype: float64\n",
      "\n",
      "Restaurant Chains and their Total Votes:\n",
      "Restaurant Name\n",
      "10 Downing Street        670\n",
      "221 B Baker Street       215\n",
      "34 Parkstreet Lane        31\n",
      "34, Chowringhee Lane     777\n",
      "4700BC Popcorn           176\n",
      "                        ... \n",
      "Zaika                    245\n",
      "Zaika Kathi Rolls         16\n",
      "Zizo                    1371\n",
      "Zoobys Kitchen            52\n",
      "buno                     117\n",
      "Name: Votes, Length: 739, dtype: int64\n"
     ]
    }
   ],
   "source": [
    "chain_ratings = df[df['Restaurant Name'].isin(chains.index)].groupby('Restaurant Name')['Aggregate rating'].mean()\n",
    "chain_popularity = df[df['Restaurant Name'].isin(chains.index)].groupby('Restaurant Name')['Votes'].sum()\n",
    "print('Restaurant Chains and their Average Ratings:')\n",
    "print(chain_ratings)\n",
    "print('\\nRestaurant Chains and their Total Votes:')\n",
    "print(chain_popularity)"
   ]
  },
  {
   "cell_type": "markdown",
   "id": "0a0be399-19f9-4bdb-9ab4-1bd5bab76667",
   "metadata": {},
   "source": [
    "**Reviews-Analysis**"
   ]
  },
  {
   "cell_type": "markdown",
   "id": "63c6bba1-e545-445e-80cd-161ad9eaf21a",
   "metadata": {},
   "source": [
    "**Task: Restaurant Reviews**"
   ]
  },
  {
   "cell_type": "code",
   "execution_count": 29,
   "id": "de18c485-ba6a-4fa4-9a2b-62d0d91a1f94",
   "metadata": {},
   "outputs": [],
   "source": [
    "from collections import Counter\n",
    "from nltk.corpus import stopwords\n",
    "from nltk.tokenize import word_tokenize\n",
    "from nltk.sentiment.vader import SentimentIntensityAnalyzer"
   ]
  },
  {
   "cell_type": "code",
   "execution_count": 30,
   "id": "03d73855-20df-4c8d-b086-8f7eda2c4e65",
   "metadata": {},
   "outputs": [
    {
     "name": "stdout",
     "output_type": "stream",
     "text": [
      "Common Words: [('average', 3737), ('good', 3179), ('rated', 2148), ('excellent', 301), ('poor', 186)]\n",
      "Positive Words: [('good', 3179), ('excellent', 301)]\n",
      "Negative Words: [('poor', 186)]\n",
      "Average Review Length: 1.3378703800649148\n",
      "Correlation between review length and rating:                   review_length  Aggregate rating\n",
      "review_length          1.000000         -0.599573\n",
      "Aggregate rating      -0.599573          1.000000\n"
     ]
    }
   ],
   "source": [
    "import pandas as pd\n",
    "from collections import Counter\n",
    "from nltk.corpus import stopwords\n",
    "from nltk.tokenize import word_tokenize\n",
    "from nltk.sentiment.vader import SentimentIntensityAnalyzer\n",
    "import nltk\n",
    "\n",
    "# Preprocess the text data\n",
    "def preprocess_text(text):\n",
    "    # Tokenize the text\n",
    "    tokens = word_tokenize(text.lower())\n",
    "    # Remove stop words\n",
    "    tokens = [word for word in tokens if word.isalpha() and word not in stopwords.words('english')]\n",
    "    return tokens\n",
    "\n",
    "df['tokens'] = df['Rating text'].apply(preprocess_text)\n",
    "\n",
    "# Extract keywords\n",
    "all_tokens = [token for sublist in df['tokens'] for token in sublist]\n",
    "common_words = Counter(all_tokens).most_common(20)\n",
    "print(\"Common Words:\", common_words)\n",
    "\n",
    "# Sentiment analysis to categorize positive and negative words\n",
    "sid = SentimentIntensityAnalyzer()\n",
    "\n",
    "positive_words = []\n",
    "negative_words = []\n",
    "\n",
    "for word, count in common_words:\n",
    "    score = sid.polarity_scores(word)\n",
    "    if score['compound'] > 0:\n",
    "        positive_words.append((word, count))\n",
    "    elif score['compound'] < 0:\n",
    "        negative_words.append((word, count))\n",
    "\n",
    "print(\"Positive Words:\", positive_words)\n",
    "print(\"Negative Words:\", negative_words)\n",
    "\n",
    "# Calculate the length of each review\n",
    "df['review_length'] = df['Rating text'].apply(lambda x: len(x.split()))\n",
    "\n",
    "# Compute the average review length\n",
    "average_review_length = df['review_length'].mean()\n",
    "print(\"Average Review Length:\", average_review_length)\n",
    "\n",
    "# Explore the relationship between review length and rating\n",
    "correlation = df[['review_length', 'Aggregate rating']].corr()\n",
    "print(\"Correlation between review length and rating:\", correlation)\n"
   ]
  },
  {
   "cell_type": "markdown",
   "id": "30fdb01a-24e8-4e87-9313-f40ec7161210",
   "metadata": {},
   "source": [
    "**Vote-Analysis**"
   ]
  },
  {
   "cell_type": "code",
   "execution_count": 31,
   "id": "a51e9f5d-96be-4cf7-a305-cff07cd24f0c",
   "metadata": {},
   "outputs": [
    {
     "name": "stdout",
     "output_type": "stream",
     "text": [
      "Restaurant with Highest Votes:\n",
      " Restaurant ID                                                       51705\n",
      "Restaurant Name                                                      Toit\n",
      "Country Code                                                            1\n",
      "City                                                            Bangalore\n",
      "Address                 298, Namma Metro Pillar 62, 100 Feet Road, Ind...\n",
      "Locality                                                      Indiranagar\n",
      "Locality Verbose                                   Indiranagar, Bangalore\n",
      "Longitude                                                       77.640709\n",
      "Latitude                                                        12.979166\n",
      "Cuisines                                         Italian, American, Pizza\n",
      "Average Cost for two                                                 2000\n",
      "Currency                                                  Indian RupeesRs\n",
      "Has Table booking                                                      No\n",
      "Has Online delivery                                                    No\n",
      "Is delivering now                                                      No\n",
      "Switch to order menu                                                   No\n",
      "Price range                                                             4\n",
      "Aggregate rating                                                      4.8\n",
      "Rating color                                                   Dark Green\n",
      "Rating text                                                     Excellent\n",
      "Votes                                                               10934\n",
      "tokens                                                        [excellent]\n",
      "review_length                                                           1\n",
      "Name: 728, dtype: object\n",
      "\n",
      "Restaurant with Lowest Votes:\n",
      " Restaurant ID                                                     6710645\n",
      "Restaurant Name                                          Cantinho da Gula\n",
      "Country Code                                                           30\n",
      "City                                                             So Paulo\n",
      "Address                 Rua Pedroso Alvarenga, 522, Itaim Bibi, So Pau...\n",
      "Locality                                                       Itaim Bibi\n",
      "Locality Verbose                                     Itaim Bibi, So Paulo\n",
      "Longitude                                                      -46.675667\n",
      "Latitude                                                          -23.581\n",
      "Cuisines                                                        Brazilian\n",
      "Average Cost for two                                                   55\n",
      "Currency                                                  Brazilian RealR\n",
      "Has Table booking                                                      No\n",
      "Has Online delivery                                                    No\n",
      "Is delivering now                                                      No\n",
      "Switch to order menu                                                   No\n",
      "Price range                                                             2\n",
      "Aggregate rating                                                      0.0\n",
      "Rating color                                                        White\n",
      "Rating text                                                     Not rated\n",
      "Votes                                                                   0\n",
      "tokens                                                            [rated]\n",
      "review_length                                                           2\n",
      "Name: 69, dtype: object\n",
      "\n",
      "Correlation between Votes and Rating:\n",
      "                      Votes  Aggregate rating\n",
      "Votes             1.000000          0.313691\n",
      "Aggregate rating  0.313691          1.000000\n"
     ]
    }
   ],
   "source": [
    "max_votes_restaurant = df.loc[df['Votes'].idxmax()]\n",
    "min_votes_restaurant = df.loc[df['Votes'].idxmin()]\n",
    "\n",
    "print(\"Restaurant with Highest Votes:\\n\", max_votes_restaurant)\n",
    "print(\"\\nRestaurant with Lowest Votes:\\n\", min_votes_restaurant)\n",
    "\n",
    "# Analyze the correlation between number of votes and the rating\n",
    "correlation = df[['Votes', 'Aggregate rating']].corr()\n",
    "\n",
    "print(\"\\nCorrelation between Votes and Rating:\\n\", correlation)"
   ]
  },
  {
   "cell_type": "markdown",
   "id": "bde0b0cc-33dd-4cd8-8274-38b6a3647fc8",
   "metadata": {},
   "source": [
    "**Price Range vs. Online Delivery and\n",
    "Table Booking**"
   ]
  },
  {
   "cell_type": "markdown",
   "id": "2b825a1a-b9eb-466f-8a59-6e07814e5b38",
   "metadata": {},
   "source": [
    "**Analyze if there is a relationship between the\n",
    "price range and the availability of online\n",
    "delivery and table booking.**"
   ]
  },
  {
   "cell_type": "code",
   "execution_count": 32,
   "id": "0e5279df-e69b-4bc0-93d0-e00c3db201a2",
   "metadata": {},
   "outputs": [
    {
     "name": "stdout",
     "output_type": "stream",
     "text": [
      "Price Range Analysis:\n",
      "    Price range  Has Table booking  Has Online delivery\n",
      "0            1           0.000225             0.157741\n",
      "1            2           0.076775             0.413106\n",
      "2            3           0.457386             0.291903\n",
      "3            4           0.467577             0.090444\n"
     ]
    }
   ],
   "source": [
    "# Convert 'Has Table booking' and 'Has Online delivery' to binary values\n",
    "df['Has Table booking'] = df['Has Table booking'].apply(lambda x: 1 if x == 'Yes' else 0)\n",
    "df['Has Online delivery'] = df['Has Online delivery'].apply(lambda x: 1 if x == 'Yes' else 0)\n",
    "\n",
    "# Group by Price range and calculate the mean of 'Has Table booking' and 'Has Online delivery'\n",
    "price_range_analysis = df.groupby('Price range')[['Has Table booking', 'Has Online delivery']].mean().reset_index()\n",
    "\n",
    "print(\"Price Range Analysis:\\n\", price_range_analysis)"
   ]
  },
  {
   "cell_type": "markdown",
   "id": "40bd2f94-14e4-4de4-9324-fc3187f28478",
   "metadata": {},
   "source": [
    "**Determine if higher-priced restaurants are\n",
    "more likely to offer these services.**"
   ]
  },
  {
   "cell_type": "code",
   "execution_count": 33,
   "id": "e19ac2d4-0efd-4511-8524-7ad384b0f7e2",
   "metadata": {},
   "outputs": [
    {
     "name": "stdout",
     "output_type": "stream",
     "text": [
      "\n",
      "Correlation between Price Range and Table Booking/Online Delivery:\n",
      "Correlation between Price Range and Table Booking: 0.50\n",
      "Correlation between Price Range and Online Delivery: 0.08\n"
     ]
    }
   ],
   "source": [
    "print(\"\\nCorrelation between Price Range and Table Booking/Online Delivery:\")\n",
    "correlation_table_booking = df[['Price range', 'Has Table booking']].corr().iloc[0, 1]\n",
    "correlation_online_delivery = df[['Price range', 'Has Online delivery']].corr().iloc[0, 1]\n",
    "\n",
    "print(f\"Correlation between Price Range and Table Booking: {correlation_table_booking:.2f}\")\n",
    "print(f\"Correlation between Price Range and Online Delivery: {correlation_online_delivery:.2f}\")"
   ]
  },
  {
   "cell_type": "code",
   "execution_count": 41,
   "id": "87f93e64-0c4c-426c-a2fd-f2b9267fa26f",
   "metadata": {},
   "outputs": [
    {
     "name": "stderr",
     "output_type": "stream",
     "text": [
      "C:\\Users\\HP\\AppData\\Local\\Temp\\ipykernel_6624\\570448004.py:5: FutureWarning: \n",
      "\n",
      "Passing `palette` without assigning `hue` is deprecated and will be removed in v0.14.0. Assign the `x` variable to `hue` and set `legend=False` for the same effect.\n",
      "\n",
      "  sns.barplot(x='Price range', y='Has Online delivery', data=price_range_analysis, palette='viridis')\n",
      "C:\\Users\\HP\\AppData\\Local\\Temp\\ipykernel_6624\\570448004.py:12: FutureWarning: \n",
      "\n",
      "Passing `palette` without assigning `hue` is deprecated and will be removed in v0.14.0. Assign the `x` variable to `hue` and set `legend=False` for the same effect.\n",
      "\n",
      "  sns.barplot(x='Price range', y='Has Online delivery', data=price_range_analysis, palette='viridis')\n"
     ]
    },
    {
     "data": {
      "image/png": "[encoded data removed]",
      "text/plain": [
       "<Figure size 1400x600 with 2 Axes>"
      ]
     },
     "metadata": {},
     "output_type": "display_data"
    }
   ],
   "source": [
    "import seaborn as sns\n",
    "plt.figure(figsize=(14, 6))\n",
    "\n",
    "plt.subplot(1, 2, 1)\n",
    "sns.barplot(x='Price range', y='Has Online delivery', data=price_range_analysis, palette='viridis')\n",
    "plt.title('Table Booking by Price Range')\n",
    "plt.ylabel('Proportion of Restaurants')\n",
    "plt.xlabel('Price Range')\n",
    "\n",
    "# Plot for Online Delivery\n",
    "plt.subplot(1, 2, 2)\n",
    "sns.barplot(x='Price range', y='Has Online delivery', data=price_range_analysis, palette='viridis')\n",
    "plt.title('Online Delivery by Price Range')\n",
    "plt.ylabel('Proportion of Restaurants')\n",
    "plt.xlabel('Price Range')\n",
    "\n",
    "plt.tight_layout()\n",
    "plt.show()"
   ]
  },
  {
   "cell_type": "code",
   "execution_count": null,
   "id": "e87bc23f-22a3-489e-85bd-7444fc1ca16b",
   "metadata": {},
   "outputs": [],
   "source": []
  }
 ],
 "metadata": {
  "kernelspec": {
   "display_name": "Python 3 (ipykernel)",
   "language": "python",
   "name": "python3"
  },
  "language_info": {
   "codemirror_mode": {
    "name": "ipython",
    "version": 3
   },
   "file_extension": ".py",
   "mimetype": "text/x-python",
   "name": "python",
   "nbconvert_exporter": "python",
   "pygments_lexer": "ipython3",
   "version": "3.12.2"
  }
 },
 "nbformat": 4,
 "nbformat_minor": 5
}
