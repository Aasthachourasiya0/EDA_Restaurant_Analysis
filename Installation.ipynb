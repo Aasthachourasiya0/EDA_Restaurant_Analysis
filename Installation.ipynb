{
 "cells": [
  {
   "cell_type": "code",
   "execution_count": 1,
   "id": "74c0b884-c8f4-4705-bd9d-3714efc5b73c",
   "metadata": {},
   "outputs": [
    {
     "name": "stdout",
     "output_type": "stream",
     "text": [
      "Collecting pandasNote: you may need to restart the kernel to use updated packages.\n",
      "\n",
      "  Using cached pandas-2.2.2-cp312-cp312-win_amd64.whl.metadata (19 kB)\n",
      "Collecting numpy>=1.26.0 (from pandas)\n",
      "  Using cached numpy-2.0.0-cp312-cp312-win_amd64.whl.metadata (60 kB)\n",
      "Requirement already satisfied: python-dateutil>=2.8.2 in d:\\cognifyz technologies project\\restaurant_analysis\\data_analysis\\lib\\site-packages (from pandas) (2.9.0.post0)\n",
      "Collecting pytz>=2020.1 (from pandas)\n",
      "  Using cached pytz-2024.1-py2.py3-none-any.whl.metadata (22 kB)\n",
      "Collecting tzdata>=2022.7 (from pandas)\n",
      "  Using cached tzdata-2024.1-py2.py3-none-any.whl.metadata (1.4 kB)\n",
      "Requirement already satisfied: six>=1.5 in d:\\cognifyz technologies project\\restaurant_analysis\\data_analysis\\lib\\site-packages (from python-dateutil>=2.8.2->pandas) (1.16.0)\n",
      "Using cached pandas-2.2.2-cp312-cp312-win_amd64.whl (11.5 MB)\n",
      "Using cached numpy-2.0.0-cp312-cp312-win_amd64.whl (16.2 MB)\n",
      "Using cached pytz-2024.1-py2.py3-none-any.whl (505 kB)\n",
      "Using cached tzdata-2024.1-py2.py3-none-any.whl (345 kB)\n",
      "Installing collected packages: pytz, tzdata, numpy, pandas\n",
      "Successfully installed numpy-2.0.0 pandas-2.2.2 pytz-2024.1 tzdata-2024.1\n"
     ]
    },
    {
     "name": "stderr",
     "output_type": "stream",
     "text": [
      "\n",
      "[notice] A new release of pip is available: 24.0 -> 24.1.2\n",
      "[notice] To update, run: python.exe -m pip install --upgrade pip\n"
     ]
    }
   ],
   "source": [
    "pip install pandas"
   ]
  },
  {
   "cell_type": "code",
   "execution_count": 2,
   "id": "da12b2ec-df93-4997-879a-345142327082",
   "metadata": {},
   "outputs": [
    {
     "name": "stdout",
     "output_type": "stream",
     "text": [
      "Requirement already satisfied: numpy in d:\\cognifyz technologies project\\restaurant_analysis\\data_analysis\\lib\\site-packages (2.0.0)\n",
      "Note: you may need to restart the kernel to use updated packages.\n"
     ]
    },
    {
     "name": "stderr",
     "output_type": "stream",
     "text": [
      "\n",
      "[notice] A new release of pip is available: 24.0 -> 24.1.2\n",
      "[notice] To update, run: python.exe -m pip install --upgrade pip\n"
     ]
    }
   ],
   "source": [
    "pip install numpy"
   ]
  },
  {
   "cell_type": "code",
   "execution_count": 4,
   "id": "6f2a19b3-e40b-45b1-87b7-75edd09f134d",
   "metadata": {},
   "outputs": [
    {
     "name": "stdout",
     "output_type": "stream",
     "text": [
      "Collecting matplotlibNote: you may need to restart the kernel to use updated packages.\n"
     ]
    },
    {
     "name": "stderr",
     "output_type": "stream",
     "text": [
      "\n",
      "[notice] A new release of pip is available: 24.0 -> 24.1.2\n",
      "[notice] To update, run: python.exe -m pip install --upgrade pip\n"
     ]
    },
    {
     "name": "stdout",
     "output_type": "stream",
     "text": [
      "\n",
      "  Using cached matplotlib-3.9.1-cp312-cp312-win_amd64.whl.metadata (11 kB)\n",
      "Collecting contourpy>=1.0.1 (from matplotlib)\n",
      "  Using cached contourpy-1.2.1-cp312-cp312-win_amd64.whl.metadata (5.8 kB)\n",
      "Collecting cycler>=0.10 (from matplotlib)\n",
      "  Using cached cycler-0.12.1-py3-none-any.whl.metadata (3.8 kB)\n",
      "Collecting fonttools>=4.22.0 (from matplotlib)\n",
      "  Downloading fonttools-4.53.1-cp312-cp312-win_amd64.whl.metadata (165 kB)\n",
      "     ---------------------------------------- 0.0/165.9 kB ? eta -:--:--\n",
      "     ---- ----------------------------------- 20.5/165.9 kB ? eta -:--:--\n",
      "     ---- ----------------------------------- 20.5/165.9 kB ? eta -:--:--\n",
      "     ---- ----------------------------------- 20.5/165.9 kB ? eta -:--:--\n",
      "     ------ ------------------------------ 30.7/165.9 kB 145.2 kB/s eta 0:00:01\n",
      "     ------ ------------------------------ 30.7/165.9 kB 145.2 kB/s eta 0:00:01\n",
      "     ------ ------------------------------ 30.7/165.9 kB 145.2 kB/s eta 0:00:01\n",
      "     ------ ------------------------------ 30.7/165.9 kB 145.2 kB/s eta 0:00:01\n",
      "     ------ ------------------------------ 30.7/165.9 kB 145.2 kB/s eta 0:00:01\n",
      "     ------ ------------------------------ 30.7/165.9 kB 145.2 kB/s eta 0:00:01\n",
      "     ------ ------------------------------ 30.7/165.9 kB 145.2 kB/s eta 0:00:01\n",
      "     ------ ------------------------------ 30.7/165.9 kB 145.2 kB/s eta 0:00:01\n",
      "     ------ ------------------------------ 30.7/165.9 kB 145.2 kB/s eta 0:00:01\n",
      "     ------ ------------------------------ 30.7/165.9 kB 145.2 kB/s eta 0:00:01\n",
      "     ------ ------------------------------ 30.7/165.9 kB 145.2 kB/s eta 0:00:01\n",
      "     ------ ------------------------------ 30.7/165.9 kB 145.2 kB/s eta 0:00:01\n",
      "     ------------------------ ----------- 112.6/165.9 kB 142.4 kB/s eta 0:00:01\n",
      "     ------------------------ ----------- 112.6/165.9 kB 142.4 kB/s eta 0:00:01\n",
      "     ------------------------ ----------- 112.6/165.9 kB 142.4 kB/s eta 0:00:01\n",
      "     ------------------------ ----------- 112.6/165.9 kB 142.4 kB/s eta 0:00:01\n",
      "     -------------------------- --------- 122.9/165.9 kB 124.2 kB/s eta 0:00:01\n",
      "     ------------------------------------ 165.9/165.9 kB 166.0 kB/s eta 0:00:00\n",
      "Collecting kiwisolver>=1.3.1 (from matplotlib)\n",
      "  Using cached kiwisolver-1.4.5-cp312-cp312-win_amd64.whl.metadata (6.5 kB)\n",
      "Requirement already satisfied: numpy>=1.23 in d:\\cognifyz technologies project\\restaurant_analysis\\data_analysis\\lib\\site-packages (from matplotlib) (2.0.0)\n",
      "Requirement already satisfied: packaging>=20.0 in d:\\cognifyz technologies project\\restaurant_analysis\\data_analysis\\lib\\site-packages (from matplotlib) (24.1)\n",
      "Collecting pillow>=8 (from matplotlib)\n",
      "  Using cached pillow-10.4.0-cp312-cp312-win_amd64.whl.metadata (9.3 kB)\n",
      "Collecting pyparsing>=2.3.1 (from matplotlib)\n",
      "  Using cached pyparsing-3.1.2-py3-none-any.whl.metadata (5.1 kB)\n",
      "Requirement already satisfied: python-dateutil>=2.7 in d:\\cognifyz technologies project\\restaurant_analysis\\data_analysis\\lib\\site-packages (from matplotlib) (2.9.0.post0)\n",
      "Requirement already satisfied: six>=1.5 in d:\\cognifyz technologies project\\restaurant_analysis\\data_analysis\\lib\\site-packages (from python-dateutil>=2.7->matplotlib) (1.16.0)\n",
      "Using cached matplotlib-3.9.1-cp312-cp312-win_amd64.whl (8.0 MB)\n",
      "Using cached contourpy-1.2.1-cp312-cp312-win_amd64.whl (189 kB)\n",
      "Using cached cycler-0.12.1-py3-none-any.whl (8.3 kB)\n",
      "Downloading fonttools-4.53.1-cp312-cp312-win_amd64.whl (2.2 MB)\n",
      "   ---------------------------------------- 0.0/2.2 MB ? eta -:--:--\n",
      "   ---------------------------------------- 0.0/2.2 MB ? eta -:--:--\n",
      "    --------------------------------------- 0.0/2.2 MB 487.6 kB/s eta 0:00:05\n",
      "   - -------------------------------------- 0.1/2.2 MB 651.6 kB/s eta 0:00:04\n",
      "   - -------------------------------------- 0.1/2.2 MB 521.8 kB/s eta 0:00:05\n",
      "   -- ------------------------------------- 0.2/2.2 MB 756.6 kB/s eta 0:00:03\n",
      "   --- ------------------------------------ 0.2/2.2 MB 697.2 kB/s eta 0:00:03\n",
      "   --- ------------------------------------ 0.2/2.2 MB 692.9 kB/s eta 0:00:03\n",
      "   ---- ----------------------------------- 0.3/2.2 MB 714.4 kB/s eta 0:00:03\n",
      "   ----- ---------------------------------- 0.3/2.2 MB 710.0 kB/s eta 0:00:03\n",
      "   ----- ---------------------------------- 0.3/2.2 MB 678.0 kB/s eta 0:00:03\n",
      "   ------ --------------------------------- 0.3/2.2 MB 675.6 kB/s eta 0:00:03\n",
      "   ------ --------------------------------- 0.3/2.2 MB 675.6 kB/s eta 0:00:03\n",
      "   ------ --------------------------------- 0.3/2.2 MB 675.6 kB/s eta 0:00:03\n",
      "   ------- -------------------------------- 0.4/2.2 MB 655.4 kB/s eta 0:00:03\n",
      "   -------- ------------------------------- 0.4/2.2 MB 671.0 kB/s eta 0:00:03\n",
      "   -------- ------------------------------- 0.5/2.2 MB 640.0 kB/s eta 0:00:03\n",
      "   -------- ------------------------------- 0.5/2.2 MB 628.3 kB/s eta 0:00:03\n",
      "   -------- ------------------------------- 0.5/2.2 MB 628.3 kB/s eta 0:00:03\n",
      "   --------- ------------------------------ 0.5/2.2 MB 606.6 kB/s eta 0:00:03\n",
      "   --------- ------------------------------ 0.5/2.2 MB 575.8 kB/s eta 0:00:03\n",
      "   ---------- ----------------------------- 0.6/2.2 MB 578.6 kB/s eta 0:00:03\n",
      "   ---------- ----------------------------- 0.6/2.2 MB 571.8 kB/s eta 0:00:03\n",
      "   ----------- ---------------------------- 0.6/2.2 MB 558.7 kB/s eta 0:00:03\n",
      "   ----------- ---------------------------- 0.6/2.2 MB 560.4 kB/s eta 0:00:03\n",
      "   ----------- ---------------------------- 0.6/2.2 MB 560.4 kB/s eta 0:00:03\n",
      "   ----------- ---------------------------- 0.6/2.2 MB 560.4 kB/s eta 0:00:03\n",
      "   ----------- ---------------------------- 0.6/2.2 MB 560.4 kB/s eta 0:00:03\n",
      "   ------------- -------------------------- 0.7/2.2 MB 567.1 kB/s eta 0:00:03\n",
      "   -------------- ------------------------- 0.8/2.2 MB 570.6 kB/s eta 0:00:03\n",
      "   -------------- ------------------------- 0.8/2.2 MB 573.4 kB/s eta 0:00:03\n",
      "   -------------- ------------------------- 0.8/2.2 MB 575.0 kB/s eta 0:00:03\n",
      "   --------------- ------------------------ 0.8/2.2 MB 577.9 kB/s eta 0:00:03\n",
      "   ---------------- ----------------------- 0.9/2.2 MB 580.9 kB/s eta 0:00:03\n",
      "   ---------------- ----------------------- 0.9/2.2 MB 589.1 kB/s eta 0:00:03\n",
      "   ----------------- ---------------------- 1.0/2.2 MB 597.0 kB/s eta 0:00:03\n",
      "   ----------------- ---------------------- 1.0/2.2 MB 598.6 kB/s eta 0:00:03\n",
      "   ------------------ --------------------- 1.0/2.2 MB 611.8 kB/s eta 0:00:02\n",
      "   ------------------- -------------------- 1.1/2.2 MB 619.3 kB/s eta 0:00:02\n",
      "   ------------------- -------------------- 1.1/2.2 MB 614.6 kB/s eta 0:00:02\n",
      "   -------------------- ------------------- 1.1/2.2 MB 621.1 kB/s eta 0:00:02\n",
      "   --------------------- ------------------ 1.2/2.2 MB 616.6 kB/s eta 0:00:02\n",
      "   --------------------- ------------------ 1.2/2.2 MB 616.6 kB/s eta 0:00:02\n",
      "   --------------------- ------------------ 1.2/2.2 MB 607.4 kB/s eta 0:00:02\n",
      "   --------------------- ------------------ 1.2/2.2 MB 598.1 kB/s eta 0:00:02\n",
      "   --------------------- ------------------ 1.2/2.2 MB 598.1 kB/s eta 0:00:02\n",
      "   --------------------- ------------------ 1.2/2.2 MB 598.1 kB/s eta 0:00:02\n",
      "   --------------------- ------------------ 1.2/2.2 MB 598.1 kB/s eta 0:00:02\n",
      "   --------------------- ------------------ 1.2/2.2 MB 598.1 kB/s eta 0:00:02\n",
      "   --------------------- ------------------ 1.2/2.2 MB 598.1 kB/s eta 0:00:02\n",
      "   --------------------- ------------------ 1.2/2.2 MB 598.1 kB/s eta 0:00:02\n",
      "   --------------------- ------------------ 1.2/2.2 MB 598.1 kB/s eta 0:00:02\n",
      "   --------------------- ------------------ 1.2/2.2 MB 598.1 kB/s eta 0:00:02\n",
      "   --------------------- ------------------ 1.2/2.2 MB 598.1 kB/s eta 0:00:02\n",
      "   ------------------------- -------------- 1.4/2.2 MB 558.6 kB/s eta 0:00:02\n",
      "   ------------------------- -------------- 1.4/2.2 MB 553.0 kB/s eta 0:00:02\n",
      "   ------------------------- -------------- 1.4/2.2 MB 553.0 kB/s eta 0:00:02\n",
      "   ------------------------- -------------- 1.4/2.2 MB 553.0 kB/s eta 0:00:02\n",
      "   ------------------------- -------------- 1.4/2.2 MB 553.0 kB/s eta 0:00:02\n",
      "   -------------------------- ------------- 1.5/2.2 MB 531.0 kB/s eta 0:00:02\n",
      "   -------------------------- ------------- 1.5/2.2 MB 532.5 kB/s eta 0:00:02\n",
      "   --------------------------- ------------ 1.5/2.2 MB 531.5 kB/s eta 0:00:02\n",
      "   --------------------------- ------------ 1.5/2.2 MB 526.3 kB/s eta 0:00:02\n",
      "   --------------------------- ------------ 1.5/2.2 MB 526.3 kB/s eta 0:00:02\n",
      "   ---------------------------- ----------- 1.5/2.2 MB 519.3 kB/s eta 0:00:02\n",
      "   ---------------------------- ----------- 1.6/2.2 MB 518.0 kB/s eta 0:00:02\n",
      "   ---------------------------- ----------- 1.6/2.2 MB 513.4 kB/s eta 0:00:02\n",
      "   ---------------------------- ----------- 1.6/2.2 MB 512.3 kB/s eta 0:00:02\n",
      "   ----------------------------- ---------- 1.6/2.2 MB 511.8 kB/s eta 0:00:02\n",
      "   ----------------------------- ---------- 1.6/2.2 MB 510.1 kB/s eta 0:00:02\n",
      "   ------------------------------ --------- 1.6/2.2 MB 509.0 kB/s eta 0:00:02\n",
      "   ------------------------------ --------- 1.7/2.2 MB 504.8 kB/s eta 0:00:02\n",
      "   ------------------------------ --------- 1.7/2.2 MB 506.3 kB/s eta 0:00:02\n",
      "   ------------------------------ --------- 1.7/2.2 MB 506.3 kB/s eta 0:00:02\n",
      "   ------------------------------- -------- 1.7/2.2 MB 496.7 kB/s eta 0:00:01\n",
      "   ------------------------------- -------- 1.7/2.2 MB 498.9 kB/s eta 0:00:01\n",
      "   -------------------------------- ------- 1.8/2.2 MB 498.7 kB/s eta 0:00:01\n",
      "   -------------------------------- ------- 1.8/2.2 MB 498.0 kB/s eta 0:00:01\n",
      "   --------------------------------- ------ 1.8/2.2 MB 501.5 kB/s eta 0:00:01\n",
      "   --------------------------------- ------ 1.8/2.2 MB 497.8 kB/s eta 0:00:01\n",
      "   --------------------------------- ------ 1.8/2.2 MB 497.0 kB/s eta 0:00:01\n",
      "   --------------------------------- ------ 1.9/2.2 MB 493.5 kB/s eta 0:00:01\n",
      "   ---------------------------------- ----- 1.9/2.2 MB 494.1 kB/s eta 0:00:01\n",
      "   ---------------------------------- ----- 1.9/2.2 MB 492.8 kB/s eta 0:00:01\n",
      "   ----------------------------------- ---- 1.9/2.2 MB 492.1 kB/s eta 0:00:01\n",
      "   ----------------------------------- ---- 1.9/2.2 MB 489.6 kB/s eta 0:00:01\n",
      "   ----------------------------------- ---- 2.0/2.2 MB 492.2 kB/s eta 0:00:01\n",
      "   ----------------------------------- ---- 2.0/2.2 MB 492.2 kB/s eta 0:00:01\n",
      "   ----------------------------------- ---- 2.0/2.2 MB 492.2 kB/s eta 0:00:01\n",
      "   ----------------------------------- ---- 2.0/2.2 MB 492.2 kB/s eta 0:00:01\n",
      "   ----------------------------------- ---- 2.0/2.2 MB 468.8 kB/s eta 0:00:01\n",
      "   ------------------------------------- -- 2.1/2.2 MB 489.7 kB/s eta 0:00:01\n",
      "   -------------------------------------- - 2.1/2.2 MB 487.3 kB/s eta 0:00:01\n",
      "   -------------------------------------- - 2.1/2.2 MB 487.4 kB/s eta 0:00:01\n",
      "   ---------------------------------------  2.1/2.2 MB 486.8 kB/s eta 0:00:01\n",
      "   ---------------------------------------  2.2/2.2 MB 484.0 kB/s eta 0:00:01\n",
      "   ---------------------------------------  2.2/2.2 MB 483.5 kB/s eta 0:00:01\n",
      "   ---------------------------------------  2.2/2.2 MB 484.7 kB/s eta 0:00:01\n",
      "   ---------------------------------------- 2.2/2.2 MB 481.7 kB/s eta 0:00:00\n",
      "Using cached kiwisolver-1.4.5-cp312-cp312-win_amd64.whl (56 kB)\n",
      "Using cached pillow-10.4.0-cp312-cp312-win_amd64.whl (2.6 MB)\n",
      "Using cached pyparsing-3.1.2-py3-none-any.whl (103 kB)\n",
      "Installing collected packages: pyparsing, pillow, kiwisolver, fonttools, cycler, contourpy, matplotlib\n",
      "Successfully installed contourpy-1.2.1 cycler-0.12.1 fonttools-4.53.1 kiwisolver-1.4.5 matplotlib-3.9.1 pillow-10.4.0 pyparsing-3.1.2\n"
     ]
    }
   ],
   "source": [
    "pip install matplotlib"
   ]
  },
  {
   "cell_type": "code",
   "execution_count": 5,
   "id": "b5581df6-1a84-4371-82af-7a24cdbd8380",
   "metadata": {},
   "outputs": [
    {
     "name": "stdout",
     "output_type": "stream",
     "text": [
      "Collecting seabornNote: you may need to restart the kernel to use updated packages.\n"
     ]
    },
    {
     "name": "stderr",
     "output_type": "stream",
     "text": [
      "\n",
      "[notice] A new release of pip is available: 24.0 -> 24.1.2\n",
      "[notice] To update, run: python.exe -m pip install --upgrade pip\n"
     ]
    },
    {
     "name": "stdout",
     "output_type": "stream",
     "text": [
      "\n",
      "  Using cached seaborn-0.13.2-py3-none-any.whl.metadata (5.4 kB)\n",
      "Requirement already satisfied: numpy!=1.24.0,>=1.20 in d:\\cognifyz technologies project\\restaurant_analysis\\data_analysis\\lib\\site-packages (from seaborn) (2.0.0)\n",
      "Requirement already satisfied: pandas>=1.2 in d:\\cognifyz technologies project\\restaurant_analysis\\data_analysis\\lib\\site-packages (from seaborn) (2.2.2)\n",
      "Requirement already satisfied: matplotlib!=3.6.1,>=3.4 in d:\\cognifyz technologies project\\restaurant_analysis\\data_analysis\\lib\\site-packages (from seaborn) (3.9.1)\n",
      "Requirement already satisfied: contourpy>=1.0.1 in d:\\cognifyz technologies project\\restaurant_analysis\\data_analysis\\lib\\site-packages (from matplotlib!=3.6.1,>=3.4->seaborn) (1.2.1)\n",
      "Requirement already satisfied: cycler>=0.10 in d:\\cognifyz technologies project\\restaurant_analysis\\data_analysis\\lib\\site-packages (from matplotlib!=3.6.1,>=3.4->seaborn) (0.12.1)\n",
      "Requirement already satisfied: fonttools>=4.22.0 in d:\\cognifyz technologies project\\restaurant_analysis\\data_analysis\\lib\\site-packages (from matplotlib!=3.6.1,>=3.4->seaborn) (4.53.1)\n",
      "Requirement already satisfied: kiwisolver>=1.3.1 in d:\\cognifyz technologies project\\restaurant_analysis\\data_analysis\\lib\\site-packages (from matplotlib!=3.6.1,>=3.4->seaborn) (1.4.5)\n",
      "Requirement already satisfied: packaging>=20.0 in d:\\cognifyz technologies project\\restaurant_analysis\\data_analysis\\lib\\site-packages (from matplotlib!=3.6.1,>=3.4->seaborn) (24.1)\n",
      "Requirement already satisfied: pillow>=8 in d:\\cognifyz technologies project\\restaurant_analysis\\data_analysis\\lib\\site-packages (from matplotlib!=3.6.1,>=3.4->seaborn) (10.4.0)\n",
      "Requirement already satisfied: pyparsing>=2.3.1 in d:\\cognifyz technologies project\\restaurant_analysis\\data_analysis\\lib\\site-packages (from matplotlib!=3.6.1,>=3.4->seaborn) (3.1.2)\n",
      "Requirement already satisfied: python-dateutil>=2.7 in d:\\cognifyz technologies project\\restaurant_analysis\\data_analysis\\lib\\site-packages (from matplotlib!=3.6.1,>=3.4->seaborn) (2.9.0.post0)\n",
      "Requirement already satisfied: pytz>=2020.1 in d:\\cognifyz technologies project\\restaurant_analysis\\data_analysis\\lib\\site-packages (from pandas>=1.2->seaborn) (2024.1)\n",
      "Requirement already satisfied: tzdata>=2022.7 in d:\\cognifyz technologies project\\restaurant_analysis\\data_analysis\\lib\\site-packages (from pandas>=1.2->seaborn) (2024.1)\n",
      "Requirement already satisfied: six>=1.5 in d:\\cognifyz technologies project\\restaurant_analysis\\data_analysis\\lib\\site-packages (from python-dateutil>=2.7->matplotlib!=3.6.1,>=3.4->seaborn) (1.16.0)\n",
      "Using cached seaborn-0.13.2-py3-none-any.whl (294 kB)\n",
      "Installing collected packages: seaborn\n",
      "Successfully installed seaborn-0.13.2\n"
     ]
    }
   ],
   "source": [
    "pip install seaborn"
   ]
  },
  {
   "cell_type": "code",
   "execution_count": 3,
   "id": "f840b5ad-4a5a-4d6f-b8f8-4138093710dd",
   "metadata": {
    "scrolled": true
   },
   "outputs": [
    {
     "name": "stdout",
     "output_type": "stream",
     "text": [
      "Requirement already satisfied: geopandas in d:\\cognifyz technologies project\\restaurant_analysis\\data_analysis\\lib\\site-packages (1.0.1)\n",
      "Requirement already satisfied: numpy>=1.22 in d:\\cognifyz technologies project\\restaurant_analysis\\data_analysis\\lib\\site-packages (from geopandas) (2.0.0)\n",
      "Requirement already satisfied: pyogrio>=0.7.2 in d:\\cognifyz technologies project\\restaurant_analysis\\data_analysis\\lib\\site-packages (from geopandas) (0.9.0)Note: you may need to restart the kernel to use updated packages.\n",
      "\n",
      "Requirement already satisfied: packaging in d:\\cognifyz technologies project\\restaurant_analysis\\data_analysis\\lib\\site-packages (from geopandas) (24.1)\n",
      "Requirement already satisfied: pandas>=1.4.0 in d:\\cognifyz technologies project\\restaurant_analysis\\data_analysis\\lib\\site-packages (from geopandas) (2.2.2)\n",
      "Requirement already satisfied: pyproj>=3.3.0 in d:\\cognifyz technologies project\\restaurant_analysis\\data_analysis\\lib\\site-packages (from geopandas) (3.6.1)\n",
      "Requirement already satisfied: shapely>=2.0.0 in d:\\cognifyz technologies project\\restaurant_analysis\\data_analysis\\lib\\site-packages (from geopandas) (2.0.5)\n",
      "Requirement already satisfied: python-dateutil>=2.8.2 in d:\\cognifyz technologies project\\restaurant_analysis\\data_analysis\\lib\\site-packages (from pandas>=1.4.0->geopandas) (2.9.0.post0)\n",
      "Requirement already satisfied: pytz>=2020.1 in d:\\cognifyz technologies project\\restaurant_analysis\\data_analysis\\lib\\site-packages (from pandas>=1.4.0->geopandas) (2024.1)\n",
      "Requirement already satisfied: tzdata>=2022.7 in d:\\cognifyz technologies project\\restaurant_analysis\\data_analysis\\lib\\site-packages (from pandas>=1.4.0->geopandas) (2024.1)\n",
      "Requirement already satisfied: certifi in d:\\cognifyz technologies project\\restaurant_analysis\\data_analysis\\lib\\site-packages (from pyogrio>=0.7.2->geopandas) (2024.7.4)\n",
      "Requirement already satisfied: six>=1.5 in d:\\cognifyz technologies project\\restaurant_analysis\\data_analysis\\lib\\site-packages (from python-dateutil>=2.8.2->pandas>=1.4.0->geopandas) (1.16.0)\n"
     ]
    },
    {
     "name": "stderr",
     "output_type": "stream",
     "text": [
      "\n",
      "[notice] A new release of pip is available: 24.0 -> 24.1.2\n",
      "[notice] To update, run: python.exe -m pip install --upgrade pip\n"
     ]
    }
   ],
   "source": [
    "pip install geopandas"
   ]
  },
  {
   "cell_type": "code",
   "execution_count": 7,
   "id": "7f02e73f-646f-452d-a30b-3e7770eb6bb8",
   "metadata": {},
   "outputs": [
    {
     "name": "stdout",
     "output_type": "stream",
     "text": [
      "Requirement already satisfied: scikit-learn in d:\\cognifyz technologies project\\restaurant_analysis\\data_analysis\\lib\\site-packages (1.5.1)\n",
      "Requirement already satisfied: geopandas in d:\\cognifyz technologies project\\restaurant_analysis\\data_analysis\\lib\\site-packages (1.0.1)\n",
      "Requirement already satisfied: numpy>=1.19.5 in d:\\cognifyz technologies project\\restaurant_analysis\\data_analysis\\lib\\site-packages (from scikit-learn) (2.0.0)\n",
      "Requirement already satisfied: scipy>=1.6.0 in d:\\cognifyz technologies project\\restaurant_analysis\\data_analysis\\lib\\site-packages (from scikit-learn) (1.14.0)\n",
      "Requirement already satisfied: joblib>=1.2.0 in d:\\cognifyz technologies project\\restaurant_analysis\\data_analysis\\lib\\site-packages (from scikit-learn) (1.4.2)\n",
      "Requirement already satisfied: threadpoolctl>=3.1.0 in d:\\cognifyz technologies project\\restaurant_analysis\\data_analysis\\lib\\site-packages (from scikit-learn) (3.5.0)\n",
      "Requirement already satisfied: pyogrio>=0.7.2 in d:\\cognifyz technologies project\\restaurant_analysis\\data_analysis\\lib\\site-packages (from geopandas) (0.9.0)\n",
      "Requirement already satisfied: packaging in d:\\cognifyz technologies project\\restaurant_analysis\\data_analysis\\lib\\site-packages (from geopandas) (24.1)\n",
      "Requirement already satisfied: pandas>=1.4.0 in d:\\cognifyz technologies project\\restaurant_analysis\\data_analysis\\lib\\site-packages (from geopandas) (2.2.2)\n",
      "Requirement already satisfied: pyproj>=3.3.0 in d:\\cognifyz technologies project\\restaurant_analysis\\data_analysis\\lib\\site-packages (from geopandas) (3.6.1)\n",
      "Requirement already satisfied: shapely>=2.0.0 in d:\\cognifyz technologies project\\restaurant_analysis\\data_analysis\\lib\\site-packages (from geopandas) (2.0.5)\n",
      "Requirement already satisfied: python-dateutil>=2.8.2 in d:\\cognifyz technologies project\\restaurant_analysis\\data_analysis\\lib\\site-packages (from pandas>=1.4.0->geopandas) (2.9.0.post0)\n",
      "Requirement already satisfied: pytz>=2020.1 in d:\\cognifyz technologies project\\restaurant_analysis\\data_analysis\\lib\\site-packages (from pandas>=1.4.0->geopandas) (2024.1)\n",
      "Requirement already satisfied: tzdata>=2022.7 in d:\\cognifyz technologies project\\restaurant_analysis\\data_analysis\\lib\\site-packages (from pandas>=1.4.0->geopandas) (2024.1)\n",
      "Requirement already satisfied: certifi in d:\\cognifyz technologies project\\restaurant_analysis\\data_analysis\\lib\\site-packages (from pyogrio>=0.7.2->geopandas) (2024.7.4)\n",
      "Requirement already satisfied: six>=1.5 in d:\\cognifyz technologies project\\restaurant_analysis\\data_analysis\\lib\\site-packages (from python-dateutil>=2.8.2->pandas>=1.4.0->geopandas) (1.16.0)\n",
      "Note: you may need to restart the kernel to use updated packages.\n"
     ]
    },
    {
     "name": "stderr",
     "output_type": "stream",
     "text": [
      "\n",
      "[notice] A new release of pip is available: 24.0 -> 24.1.2\n",
      "[notice] To update, run: python.exe -m pip install --upgrade pip\n"
     ]
    }
   ],
   "source": [
    "pip install scikit-learn geopandas"
   ]
  },
  {
   "cell_type": "code",
   "execution_count": 2,
   "id": "e212d039-b657-44b0-807f-c00ba5b10193",
   "metadata": {},
   "outputs": [
    {
     "name": "stdout",
     "output_type": "stream",
     "text": [
      "Requirement already satisfied: nltk in d:\\cognifyz technologies project\\restaurant_analysis\\data_analysis\\lib\\site-packages (3.8.1)\n",
      "Requirement already satisfied: click in d:\\cognifyz technologies project\\restaurant_analysis\\data_analysis\\lib\\site-packages (from nltk) (8.1.7)\n",
      "Requirement already satisfied: joblib in d:\\cognifyz technologies project\\restaurant_analysis\\data_analysis\\lib\\site-packages (from nltk) (1.4.2)\n",
      "Requirement already satisfied: regex>=2021.8.3 in d:\\cognifyz technologies project\\restaurant_analysis\\data_analysis\\lib\\site-packages (from nltk) (2024.5.15)\n",
      "Requirement already satisfied: tqdm in d:\\cognifyz technologies project\\restaurant_analysis\\data_analysis\\lib\\site-packages (from nltk) (4.66.4)\n",
      "Requirement already satisfied: colorama in d:\\cognifyz technologies project\\restaurant_analysis\\data_analysis\\lib\\site-packages (from click->nltk) (0.4.6)\n",
      "Note: you may need to restart the kernel to use updated packages.\n"
     ]
    },
    {
     "name": "stderr",
     "output_type": "stream",
     "text": [
      "\n",
      "[notice] A new release of pip is available: 24.0 -> 24.1.2\n",
      "[notice] To update, run: python.exe -m pip install --upgrade pip\n"
     ]
    }
   ],
   "source": [
    "pip install nltk\n"
   ]
  },
  {
   "cell_type": "code",
   "execution_count": 3,
   "id": "ba649a2d-2df4-404b-859e-c888b201c09d",
   "metadata": {},
   "outputs": [
    {
     "name": "stdout",
     "output_type": "stream",
     "text": [
      "Requirement already satisfied: textblob in d:\\cognifyz technologies project\\restaurant_analysis\\data_analysis\\lib\\site-packages (0.18.0.post0)\n",
      "Requirement already satisfied: nltk>=3.8 in d:\\cognifyz technologies project\\restaurant_analysis\\data_analysis\\lib\\site-packages (from textblob) (3.8.1)\n",
      "Requirement already satisfied: click in d:\\cognifyz technologies project\\restaurant_analysis\\data_analysis\\lib\\site-packages (from nltk>=3.8->textblob) (8.1.7)\n",
      "Requirement already satisfied: joblib in d:\\cognifyz technologies project\\restaurant_analysis\\data_analysis\\lib\\site-packages (from nltk>=3.8->textblob) (1.4.2)\n",
      "Requirement already satisfied: regex>=2021.8.3 in d:\\cognifyz technologies project\\restaurant_analysis\\data_analysis\\lib\\site-packages (from nltk>=3.8->textblob) (2024.5.15)\n",
      "Requirement already satisfied: tqdm in d:\\cognifyz technologies project\\restaurant_analysis\\data_analysis\\lib\\site-packages (from nltk>=3.8->textblob) (4.66.4)\n",
      "Requirement already satisfied: colorama in d:\\cognifyz technologies project\\restaurant_analysis\\data_analysis\\lib\\site-packages (from click->nltk>=3.8->textblob) (0.4.6)\n",
      "Note: you may need to restart the kernel to use updated packages.\n"
     ]
    },
    {
     "name": "stderr",
     "output_type": "stream",
     "text": [
      "\n",
      "[notice] A new release of pip is available: 24.0 -> 24.1.2\n",
      "[notice] To update, run: python.exe -m pip install --upgrade pip\n"
     ]
    }
   ],
   "source": [
    "pip install textblob"
   ]
  },
  {
   "cell_type": "code",
   "execution_count": 6,
   "id": "5a4243b4-5e77-474a-9d6c-aac315241a5e",
   "metadata": {},
   "outputs": [
    {
     "name": "stderr",
     "output_type": "stream",
     "text": [
      "[nltk_data] Downloading package punkt to\n",
      "[nltk_data]     C:\\Users\\HP\\AppData\\Roaming\\nltk_data...\n",
      "[nltk_data]   Package punkt is already up-to-date!\n",
      "[nltk_data] Downloading package stopwords to\n",
      "[nltk_data]     C:\\Users\\HP\\AppData\\Roaming\\nltk_data...\n",
      "[nltk_data]   Package stopwords is already up-to-date!\n",
      "[nltk_data] Downloading package vader_lexicon to\n",
      "[nltk_data]     C:\\Users\\HP\\AppData\\Roaming\\nltk_data...\n",
      "[nltk_data]   Package vader_lexicon is already up-to-date!\n"
     ]
    },
    {
     "data": {
      "text/plain": [
       "True"
      ]
     },
     "execution_count": 6,
     "metadata": {},
     "output_type": "execute_result"
    }
   ],
   "source": [
    "import nltk\n",
    "\n",
    "nltk.download('punkt')\n",
    "nltk.download('stopwords')\n",
    "nltk.download('vader_lexicon')"
   ]
  },
  {
   "cell_type": "code",
   "execution_count": 1,
   "id": "14898603-76f9-4f0b-9acb-a69603c9d93e",
   "metadata": {},
   "outputs": [
    {
     "name": "stdout",
     "output_type": "stream",
     "text": [
      "Requirement already satisfied: seaborn in d:\\cognifyz technologies project\\restaurant_analysis\\data_analysis\\lib\\site-packages (0.13.2)Note: you may need to restart the kernel to use updated packages.\n"
     ]
    },
    {
     "name": "stderr",
     "output_type": "stream",
     "text": [
      "\n",
      "[notice] A new release of pip is available: 24.0 -> 24.1.2\n",
      "[notice] To update, run: python.exe -m pip install --upgrade pip\n"
     ]
    },
    {
     "name": "stdout",
     "output_type": "stream",
     "text": [
      "\n",
      "Requirement already satisfied: numpy!=1.24.0,>=1.20 in d:\\cognifyz technologies project\\restaurant_analysis\\data_analysis\\lib\\site-packages (from seaborn) (2.0.0)\n",
      "Requirement already satisfied: pandas>=1.2 in d:\\cognifyz technologies project\\restaurant_analysis\\data_analysis\\lib\\site-packages (from seaborn) (2.2.2)\n",
      "Requirement already satisfied: matplotlib!=3.6.1,>=3.4 in d:\\cognifyz technologies project\\restaurant_analysis\\data_analysis\\lib\\site-packages (from seaborn) (3.9.1)\n",
      "Requirement already satisfied: contourpy>=1.0.1 in d:\\cognifyz technologies project\\restaurant_analysis\\data_analysis\\lib\\site-packages (from matplotlib!=3.6.1,>=3.4->seaborn) (1.2.1)\n",
      "Requirement already satisfied: cycler>=0.10 in d:\\cognifyz technologies project\\restaurant_analysis\\data_analysis\\lib\\site-packages (from matplotlib!=3.6.1,>=3.4->seaborn) (0.12.1)\n",
      "Requirement already satisfied: fonttools>=4.22.0 in d:\\cognifyz technologies project\\restaurant_analysis\\data_analysis\\lib\\site-packages (from matplotlib!=3.6.1,>=3.4->seaborn) (4.53.1)\n",
      "Requirement already satisfied: kiwisolver>=1.3.1 in d:\\cognifyz technologies project\\restaurant_analysis\\data_analysis\\lib\\site-packages (from matplotlib!=3.6.1,>=3.4->seaborn) (1.4.5)\n",
      "Requirement already satisfied: packaging>=20.0 in d:\\cognifyz technologies project\\restaurant_analysis\\data_analysis\\lib\\site-packages (from matplotlib!=3.6.1,>=3.4->seaborn) (24.1)\n",
      "Requirement already satisfied: pillow>=8 in d:\\cognifyz technologies project\\restaurant_analysis\\data_analysis\\lib\\site-packages (from matplotlib!=3.6.1,>=3.4->seaborn) (10.4.0)\n",
      "Requirement already satisfied: pyparsing>=2.3.1 in d:\\cognifyz technologies project\\restaurant_analysis\\data_analysis\\lib\\site-packages (from matplotlib!=3.6.1,>=3.4->seaborn) (3.1.2)\n",
      "Requirement already satisfied: python-dateutil>=2.7 in d:\\cognifyz technologies project\\restaurant_analysis\\data_analysis\\lib\\site-packages (from matplotlib!=3.6.1,>=3.4->seaborn) (2.9.0.post0)\n",
      "Requirement already satisfied: pytz>=2020.1 in d:\\cognifyz technologies project\\restaurant_analysis\\data_analysis\\lib\\site-packages (from pandas>=1.2->seaborn) (2024.1)\n",
      "Requirement already satisfied: tzdata>=2022.7 in d:\\cognifyz technologies project\\restaurant_analysis\\data_analysis\\lib\\site-packages (from pandas>=1.2->seaborn) (2024.1)\n",
      "Requirement already satisfied: six>=1.5 in d:\\cognifyz technologies project\\restaurant_analysis\\data_analysis\\lib\\site-packages (from python-dateutil>=2.7->matplotlib!=3.6.1,>=3.4->seaborn) (1.16.0)\n"
     ]
    }
   ],
   "source": [
    "pip install seaborn"
   ]
  },
  {
   "cell_type": "code",
   "execution_count": null,
   "id": "09b70eba-88f5-479e-9179-32a44f5d073c",
   "metadata": {},
   "outputs": [],
   "source": []
  }
 ],
 "metadata": {
  "kernelspec": {
   "display_name": "Python 3 (ipykernel)",
   "language": "python",
   "name": "python3"
  },
  "language_info": {
   "codemirror_mode": {
    "name": "ipython",
    "version": 3
   },
   "file_extension": ".py",
   "mimetype": "text/x-python",
   "name": "python",
   "nbconvert_exporter": "python",
   "pygments_lexer": "ipython3",
   "version": "3.12.2"
  }
 },
 "nbformat": 4,
 "nbformat_minor": 5
}
